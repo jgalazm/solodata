{
 "cells": [
  {
   "cell_type": "markdown",
   "metadata": {},
   "source": [
    "Based on this tutorial:\n",
    "\n",
    "http://jarroba.com/scraping-python-beautifulsoup-ejemplos/"
   ]
  },
  {
   "cell_type": "code",
   "execution_count": 1,
   "metadata": {
    "collapsed": true
   },
   "outputs": [],
   "source": [
    "url = \"http://www.solotodo.com/notebooks/?\"+\\\n",
    "\"min_price=99990&max_price=3519990&keywords=&\"+\\\n",
    "\"notebook_brand=&notebook_line=&processor_brand=&\"+\\\n",
    "\"processor_line_family=&processor=&ram_quantity=&\"+\\\n",
    "\"ram_type=&storage_capacity=&storage_type=&\"+\\\n",
    "\"storage_rpm=&min_screen_size=103114&\"+\\\n",
    "\"max_screen_size=103150&screen_resolution=&\"+\\\n",
    "\"screen_touch=&video_card_type=&video_card_brand=&\"+\\\n",
    "\"video_card_line=103900&video_card=110542&\"+\\\n",
    "\"operating_system=&optical_drive=&advanced_controls=1&\"+\\\n",
    "\"ordering=\""
   ]
  },
  {
   "cell_type": "markdown",
   "metadata": {},
   "source": [
    "El código del ejemplo:\n",
    "\n",
    "```python\n",
    "# -*- coding: utf-8 -*-\n",
    "__author__ = 'RicardoMoya'\n",
    "\n",
    "from bs4 import BeautifulSoup\n",
    "import requests\n",
    "\n",
    "url = \"http://jarroba.com/\"\n",
    "\n",
    "# Realizamos la petición a la web\n",
    "req = requests.get(url)\n",
    "\n",
    "# Comprobamos que la petición nos devuelve un Status Code = 200\n",
    "statusCode = req.status_code\n",
    "if statusCode == 200:\n",
    "\n",
    "    # Pasamos el contenido HTML de la web a un objeto BeautifulSoup()\n",
    "    html = BeautifulSoup(req.text)\n",
    "\n",
    "    # Obtenemos todos los divs donde estan las entradas\n",
    "    entradas = html.find_all('div',{'class':'col-md-4 col-xs-12'})\n",
    "\n",
    "    # Recorremos todas las entradas para extraer el título, autor y fecha\n",
    "    for i,entrada in enumerate(entradas):\n",
    "        # Con el método \"getText()\" no nos devuelve el HTML\n",
    "        titulo = entrada.find('span', {'class' : 'tituloPost'}).getText()\n",
    "        # Sino llamamos al método \"getText()\" nos devuelve también el HTML\n",
    "        autor = entrada.find('span', {'class' : 'autor'})\n",
    "        fecha = entrada.find('span', {'class' : 'fecha'}).getText()\n",
    "\n",
    "        # Imprimo el Título, Autor y Fecha de las entradas\n",
    "        print \"%d - %s  |  %s  |  %s\" %(i+1,titulo,autor,fecha)\n",
    "\n",
    "else:\n",
    "    print \"Status Code %d\" %statusCode\n",
    "```"
   ]
  },
  {
   "cell_type": "code",
   "execution_count": 2,
   "metadata": {
    "collapsed": true
   },
   "outputs": [],
   "source": [
    "from bs4 import BeautifulSoup\n",
    "import requests"
   ]
  },
  {
   "cell_type": "code",
   "execution_count": 3,
   "metadata": {
    "collapsed": true
   },
   "outputs": [],
   "source": [
    "url = \"http://jarroba.com/\"\n",
    "\n",
    "# Realizamos la petición a la web\n",
    "req = requests.get(url)"
   ]
  },
  {
   "cell_type": "code",
   "execution_count": 4,
   "metadata": {
    "collapsed": true
   },
   "outputs": [],
   "source": [
    "# Comprobamos que la petición nos devuelve un Status Code = 200\n",
    "statusCode = req.status_code"
   ]
  },
  {
   "cell_type": "code",
   "execution_count": 5,
   "metadata": {
    "collapsed": false
   },
   "outputs": [
    {
     "data": {
      "text/plain": [
       "200"
      ]
     },
     "execution_count": 5,
     "metadata": {},
     "output_type": "execute_result"
    }
   ],
   "source": [
    "statusCode"
   ]
  },
  {
   "cell_type": "code",
   "execution_count": 6,
   "metadata": {
    "collapsed": false
   },
   "outputs": [
    {
     "name": "stderr",
     "output_type": "stream",
     "text": [
      "/home/jose/anaconda2/lib/python2.7/site-packages/bs4/__init__.py:166: UserWarning: No parser was explicitly specified, so I'm using the best available HTML parser for this system (\"lxml\"). This usually isn't a problem, but if you run this code on another system, or in a different virtual environment, it may use a different parser and behave differently.\n",
      "\n",
      "To get rid of this warning, change this:\n",
      "\n",
      " BeautifulSoup([your markup])\n",
      "\n",
      "to this:\n",
      "\n",
      " BeautifulSoup([your markup], \"lxml\")\n",
      "\n",
      "  markup_type=markup_type))\n"
     ]
    }
   ],
   "source": [
    "# Pasamos el contenido HTML de la web a un objeto BeautifulSoup()\n",
    "html = BeautifulSoup(req.text)"
   ]
  },
  {
   "cell_type": "code",
   "execution_count": 7,
   "metadata": {
    "collapsed": true
   },
   "outputs": [],
   "source": [
    "# Obtenemos todos los divs donde estan las entradas\n",
    "entradas = html.find_all('div',{'class':'col-md-4 col-xs-12'})"
   ]
  },
  {
   "cell_type": "code",
   "execution_count": 8,
   "metadata": {
    "collapsed": false,
    "scrolled": true
   },
   "outputs": [
    {
     "name": "stdout",
     "output_type": "stream",
     "text": [
      "1 - Dígito de control – Detección de errores  |  <span class=\"autor\">Por: Ramón\tInvarato</span>  |  21-Jul-2016\n",
      "2 - Expectation-maximization en Python y Scikit-learn, con ejemplos  |  <span class=\"autor\">Por: Ricardo\tMoya</span>  |  20-Jun-2016\n",
      "3 - K-means en Python y Scikit-learn, con ejemplos  |  <span class=\"autor\">Por: Ricardo\tMoya</span>  |  29-May-2016\n",
      "4 - ¿Que es el Clustering?  |  <span class=\"autor\">Por: Ricardo\tMoya</span>  |  25-Mar-2016\n",
      "5 - Código Hash  |  <span class=\"autor\">Por: Ramón\tInvarato</span>  |  02-Mar-2016\n",
      "6 - ¿Qué es el Machine Learning?  |  <span class=\"autor\">Por: Ricardo\tMoya</span>  |  30-Ene-2016\n",
      "7 - Lectura y Escritura de ficheros en Python, con ejemplos  |  <span class=\"autor\">Por: Ricardo\tMoya</span>  |  31-Dic-2015\n",
      "8 - Patrón Singleton en Java, con ejemplos  |  <span class=\"autor\">Por: Ricardo\tMoya</span>  |  21-Dic-2015\n",
      "9 - Cliente-Servidor: Petición del Cliente  |  <span class=\"autor\">Por: Ramón\tInvarato</span>  |  29-Nov-2015\n"
     ]
    }
   ],
   "source": [
    "# Recorremos todas las entradas para extraer el título, autor y fecha\n",
    "for i,entrada in enumerate(entradas):\n",
    "    # Con el método \"getText()\" no nos devuelve el HTML\n",
    "    titulo = entrada.find('span', {'class' : 'tituloPost'}).getText()\n",
    "    # Sino llamamos al método \"getText()\" nos devuelve también el HTML\n",
    "    autor = entrada.find('span', {'class' : 'autor'})\n",
    "    fecha = entrada.find('span', {'class' : 'fecha'}).getText()\n",
    "    # Imprimo el Título, Autor y Fecha de las entradas\n",
    "    print \"%d - %s  |  %s  |  %s\" %(i+1,titulo,autor,fecha)\n",
    "    "
   ]
  },
  {
   "cell_type": "markdown",
   "metadata": {},
   "source": [
    "# En solonotebooks"
   ]
  },
  {
   "cell_type": "code",
   "execution_count": 9,
   "metadata": {
    "collapsed": true
   },
   "outputs": [],
   "source": [
    "% reset -f"
   ]
  },
  {
   "cell_type": "code",
   "execution_count": 10,
   "metadata": {
    "collapsed": true
   },
   "outputs": [],
   "source": [
    "from bs4 import BeautifulSoup\n",
    "import requests"
   ]
  },
  {
   "cell_type": "code",
   "execution_count": 11,
   "metadata": {
    "collapsed": true
   },
   "outputs": [],
   "source": [
    "url = \"http://www.solotodo.com/notebooks/?min_price=99990&max_price=1001329&keywords=&notebook_brand=&notebook_line=&processor_brand=&processor_line_family=&processor=&ram_quantity=103199&ram_type=&storage_capacity=&storage_type=&storage_rpm=&min_screen_size=103114&max_screen_size=103150&screen_resolution=&screen_touch=&video_card_type=&video_card_brand=&video_card_line=103900&video_card=110425&operating_system=&optical_drive=&advanced_controls=1&ordering=\"\n",
    "\n",
    "# Realizamos la petición a la web\n",
    "req = requests.get(url)"
   ]
  },
  {
   "cell_type": "code",
   "execution_count": 12,
   "metadata": {
    "collapsed": false
   },
   "outputs": [
    {
     "data": {
      "text/plain": [
       "200"
      ]
     },
     "execution_count": 12,
     "metadata": {},
     "output_type": "execute_result"
    }
   ],
   "source": [
    "# Comprobamos que la petición nos devuelve un Status Code = 200\n",
    "statusCode = req.status_code\n",
    "statusCode"
   ]
  },
  {
   "cell_type": "code",
   "execution_count": 13,
   "metadata": {
    "collapsed": false
   },
   "outputs": [],
   "source": [
    "# Pasamos el contenido HTML de la web a un objeto BeautifulSoup()\n",
    "html = BeautifulSoup(req.text,\"lxml\")"
   ]
  },
  {
   "cell_type": "code",
   "execution_count": 14,
   "metadata": {
    "collapsed": false
   },
   "outputs": [],
   "source": [
    "# Obtenemos todos los divs donde estan las entradas\n",
    "entradas = html.find_all('div',{'class':'search_result'})"
   ]
  },
  {
   "cell_type": "markdown",
   "metadata": {},
   "source": [
    "La entrada es parecida a esta\n",
    "```html\n",
    "<div class=\"search_result\">\n",
    "    <h4 class=\"search-result-title\"> <strong> <a class=\"link\" href=/products/22069-asus-n551jw-cn357t-90nb08b1-m04750/> ASUS N551JW-CN357T (90NB08B1-M04750) </a> </strong> </h4>\n",
    "    <div class=\"search-result-image-container\"> <a href=/products/22069-asus-n551jw-cn357t-90nb08b1-m04750/> <img src=\"https://solotodo.s3.amazonaws.com/cache/a6/1e/a61e98a9665ae38829ea00ce8454578f.png\" width=\"400\" height=\"325\"> </a>\n",
    "    </div>\n",
    "    <div class=\"search-result-caption\">\n",
    "        <ul class=\"with_margin_top list-without-decoration\">\n",
    "            <li><strong>Procesador:</strong> Intel Core i7 4720HQ (2600 MHz - 3600 MHz) </li>\n",
    "            <li><strong>RAM:</strong> 12GB DDR3L (1600 MHz) </li>\n",
    "            <li><strong>Pantalla:</strong> LED 15.6&quot; (1920x1080) </li>\n",
    "            <li><strong>Almacenamiento:</strong> HDD 1TB (5400rpm) </li>\n",
    "            <li><strong>Tarjetas de video:</strong>\n",
    "                <ul>\n",
    "                    <li>Intel HD Graphics 4600 (Integrada)</li>\n",
    "                    <li>NVIDIA GeForce GTX 960M (4GB)</li>\n",
    "                </ul>\n",
    "            </li>\n",
    "        </ul>\n",
    "    </div>\n",
    "    <div class=\"with_margin_top\"> <a class=\"search-result-price\" href=/products/22069-asus-n551jw-cn357t-90nb08b1-m04750/> $816.816 </a>\n",
    " ...\n",
    " ```"
   ]
  },
  {
   "cell_type": "code",
   "execution_count": 15,
   "metadata": {
    "collapsed": false
   },
   "outputs": [
    {
     "name": "stdout",
     "output_type": "stream",
     "text": [
      "<div class=\"search_result\">\n",
      "<h4 class=\"search-result-title\"> <strong> <a class=\"link\" href=\"/products/26672-hp-omen-15-ax002la-v7r99la/\"> HP Omen 15-AX002LA (V7R99LA) </a> </strong> </h4> <div class=\"search-result-image-container\"> <a href=\"/products/26672-hp-omen-15-ax002la-v7r99la/\"> <img height=\"259\" src=\"https://solotodo.s3.amazonaws.com/cache/df/66/df66e4ba41b3778e96e38d12ac0a7f43.png\" width=\"400\"/> </a> </div> <div class=\"search-result-caption\"> <ul class=\"with_margin_top list-without-decoration\"> <li><strong>Procesador:</strong> Intel Core i7 6700HQ (2600 MHz - 3500 MHz) </li> <li><strong>RAM:</strong> 16GB DDR4 (2133 MHz) </li> <li><strong>Pantalla:</strong> LED 15.6\" (1920x1080) </li> <li><strong>Almacenamiento:</strong> <ul><li>HDD 1TB (5400rpm)</li><li>M.2 128GB</li> </ul> </li> <li><strong>Tarjetas de video:</strong> <ul><li>Intel HD Graphics 530 (Integrada)</li><li>NVIDIA GeForce GTX 960M (4GB)</li> </ul></li> </ul> </div> <div class=\"with_margin_top\"> <a class=\"search-result-price\" href=\"/products/26672-hp-omen-15-ax002la-v7r99la/\"> $929.250 </a> </div>\n",
      "</div>\n"
     ]
    }
   ],
   "source": [
    "i = 0; entrada = entradas[1]\n",
    "print entrada"
   ]
  },
  {
   "cell_type": "markdown",
   "metadata": {},
   "source": [
    "Encuentra el título"
   ]
  },
  {
   "cell_type": "code",
   "execution_count": 16,
   "metadata": {
    "collapsed": false
   },
   "outputs": [
    {
     "name": "stdout",
     "output_type": "stream",
     "text": [
      "   HP Omen 15-AX002LA (V7R99LA)   \n"
     ]
    }
   ],
   "source": [
    "print entrada.find('h4',{'class':'search-result-title'}).getText()\n"
   ]
  },
  {
   "cell_type": "markdown",
   "metadata": {},
   "source": [
    "Encuentra el precio"
   ]
  },
  {
   "cell_type": "code",
   "execution_count": 17,
   "metadata": {
    "collapsed": false,
    "scrolled": true
   },
   "outputs": [
    {
     "name": "stdout",
     "output_type": "stream",
     "text": [
      " $929.250 \n"
     ]
    }
   ],
   "source": [
    "print entrada.find('a',{'class':'search-result-price'}).getText()"
   ]
  },
  {
   "cell_type": "markdown",
   "metadata": {},
   "source": [
    "Obtener el \"ul\" con los detalles de la entrada actual"
   ]
  },
  {
   "cell_type": "code",
   "execution_count": 18,
   "metadata": {
    "collapsed": false,
    "scrolled": true
   },
   "outputs": [
    {
     "name": "stdout",
     "output_type": "stream",
     "text": [
      "<ul class=\"with_margin_top list-without-decoration\"> <li><strong>Procesador:</strong> Intel Core i7 6700HQ (2600 MHz - 3500 MHz) </li> <li><strong>RAM:</strong> 16GB DDR4 (2133 MHz) </li> <li><strong>Pantalla:</strong> LED 15.6\" (1920x1080) </li> <li><strong>Almacenamiento:</strong> <ul><li>HDD 1TB (5400rpm)</li><li>M.2 128GB</li> </ul> </li> <li><strong>Tarjetas de video:</strong> <ul><li>Intel HD Graphics 530 (Integrada)</li><li>NVIDIA GeForce GTX 960M (4GB)</li> </ul></li> </ul>\n"
     ]
    }
   ],
   "source": [
    "detalles = entrada.find('ul',{'class':'with_margin_top list-without-decoration'})\n",
    "print detalles"
   ]
  },
  {
   "cell_type": "markdown",
   "metadata": {},
   "source": [
    "Del ul extrae las propiedades examinando si tiene \"li\" dentro"
   ]
  },
  {
   "cell_type": "code",
   "execution_count": 19,
   "metadata": {
    "collapsed": false
   },
   "outputs": [
    {
     "name": "stdout",
     "output_type": "stream",
     "text": [
      "Procesador:\n",
      "RAM:\n",
      "Pantalla:\n",
      "Almacenamiento:\n",
      "Tarjetas de video:\n"
     ]
    }
   ],
   "source": [
    "props = detalles.find_all('li',recursive=False)\n",
    "propsDict = {}\n",
    "for i,p in enumerate(props):\n",
    "    header = p.contents[0].getText()\n",
    "    print header\n",
    "    if len(p.findAll('li'))>0:\n",
    "        props[i] = [pi.getText() for pi in p.findAll('li')]\n",
    "    else:\n",
    "        props[i] = p.getText()\n",
    "    propsDict[header]= props[i]"
   ]
  },
  {
   "cell_type": "code",
   "execution_count": 20,
   "metadata": {
    "collapsed": false
   },
   "outputs": [
    {
     "data": {
      "text/plain": [
       "{u'Almacenamiento:': [u'HDD 1TB (5400rpm)', u'M.2 128GB'],\n",
       " u'Pantalla:': u'Pantalla: LED 15.6\" (1920x1080) ',\n",
       " u'Procesador:': u'Procesador: Intel Core i7 6700HQ (2600 MHz - 3500 MHz) ',\n",
       " u'RAM:': u'RAM: 16GB DDR4 (2133 MHz) ',\n",
       " u'Tarjetas de video:': [u'Intel HD Graphics 530 (Integrada)',\n",
       "  u'NVIDIA GeForce GTX 960M (4GB)']}"
      ]
     },
     "execution_count": 20,
     "metadata": {},
     "output_type": "execute_result"
    }
   ],
   "source": [
    "propsDict"
   ]
  },
  {
   "cell_type": "markdown",
   "metadata": {},
   "source": [
    "Ahora quiero el link a la página que tiene todos lo demás datos"
   ]
  },
  {
   "cell_type": "code",
   "execution_count": 21,
   "metadata": {
    "collapsed": false
   },
   "outputs": [
    {
     "name": "stdout",
     "output_type": "stream",
     "text": [
      "http://www.solotodo.com/products/26672-hp-omen-15-ax002la-v7r99la/\n"
     ]
    }
   ],
   "source": [
    "productLink = 'http://www.solotodo.com'+entrada.find('a',{'class':'link'}).attrs['href']\n",
    "print productLink"
   ]
  },
  {
   "cell_type": "markdown",
   "metadata": {},
   "source": [
    "Recopilando en una sola función:"
   ]
  },
  {
   "cell_type": "code",
   "execution_count": 22,
   "metadata": {
    "collapsed": true
   },
   "outputs": [],
   "source": [
    "%reset -f"
   ]
  },
  {
   "cell_type": "markdown",
   "metadata": {},
   "source": [
    "No voy a sacar detalles"
   ]
  },
  {
   "cell_type": "code",
   "execution_count": 23,
   "metadata": {
    "collapsed": false
   },
   "outputs": [],
   "source": [
    "from bs4 import BeautifulSoup\n",
    "import requests\n",
    "def getProductsURL(URL):\n",
    "    # Realizamos la petición a la web\n",
    "    req = requests.get(URL)\n",
    "    # Comprobamos que la petición nos devuelve un Status Code = 200\n",
    "    statusCode = req.status_code\n",
    "    if statusCode==200:\n",
    "        # Pasamos el contenido HTML de la web a un objeto BeautifulSoup()\n",
    "        html = BeautifulSoup(req.text)\n",
    "        # Obtenemos todos los divs donde estan las entradas\n",
    "        entradas = html.find_all('div',{'class':'search_result'})\n",
    "                \n",
    "        products = {}\n",
    "        \n",
    "        for i,entrada in enumerate(entradas):\n",
    "#             # Obtener el \"ul\" con los detalles de la entrada actual\n",
    "#             detalles = entrada.find('ul',{'class':'with_margin_top list-without-decoration'})\n",
    "            \n",
    "#             #sacar la lista de propiedades \n",
    "#             props = detalles.find_all('li',recursive=False)\n",
    "#             propsDict = {}\n",
    "#             for i,p in enumerate(props):\n",
    "#                 header = p.contents[0].getText()\n",
    "#                 if len(p.findAll('li'))>0:\n",
    "#                     props[i] = [pi.getText() for pi in p.findAll('li')]\n",
    "#                 else:\n",
    "#                     props[i] = p.getText()\n",
    "#                 propsDict[header]= props[i]            \n",
    "            productPrice = entrada.find('a',{'class':'search-result-price'}).getText()\n",
    "            productLink = entrada.find('a',{'class':'link'}).attrs['href']\n",
    "            productLink = 'http://www.solotodo.com'+productLink\n",
    "            productTitle = entrada.find('h4',{'class':'search-result-title'}).getText()\n",
    "            products[productTitle] = {\n",
    "                'link': productLink,\n",
    "                'price': productPrice\n",
    "#                 'details': propsDict\n",
    "            }\n",
    "        return products\n",
    "    else:\n",
    "        return"
   ]
  },
  {
   "cell_type": "markdown",
   "metadata": {},
   "source": [
    "Reinicio para probar desde 0"
   ]
  },
  {
   "cell_type": "code",
   "execution_count": 24,
   "metadata": {
    "collapsed": true
   },
   "outputs": [],
   "source": [
    "qURL= \"http://www.solotodo.com/notebooks/?min_price=99990&max_price=1001329&keywords=&notebook_brand=&notebook_line=&processor_brand=&processor_line_family=&processor=&ram_quantity=103199&ram_type=&storage_capacity=&storage_type=&storage_rpm=&min_screen_size=103114&max_screen_size=103150&screen_resolution=&screen_touch=&video_card_type=&video_card_brand=&video_card_line=103900&video_card=110425&operating_system=&optical_drive=&advanced_controls=1&ordering=\""
   ]
  },
  {
   "cell_type": "code",
   "execution_count": 25,
   "metadata": {
    "collapsed": false
   },
   "outputs": [],
   "source": [
    "results = getProductsURL(qURL)"
   ]
  },
  {
   "cell_type": "code",
   "execution_count": 26,
   "metadata": {
    "collapsed": false
   },
   "outputs": [
    {
     "data": {
      "text/plain": [
       "[u'   ASUS N552VW-FI100T   ',\n",
       " u'   HP Omen 15-AX002LA (V7R99LA)   ',\n",
       " u'   Lenovo IdeaPad Y700-15 (I7-6700HQ / 12GB / 1TB / GTX 960M)   ',\n",
       " u'   ASUS N551JW-CN357T (90NB08B1-M04750)   ',\n",
       " u'   ASUS ROG G552VW-CN452T   ']"
      ]
     },
     "execution_count": 26,
     "metadata": {},
     "output_type": "execute_result"
    }
   ],
   "source": [
    "results.keys()"
   ]
  },
  {
   "cell_type": "code",
   "execution_count": 27,
   "metadata": {
    "collapsed": false
   },
   "outputs": [
    {
     "data": {
      "text/plain": [
       "['price', 'link']"
      ]
     },
     "execution_count": 27,
     "metadata": {},
     "output_type": "execute_result"
    }
   ],
   "source": [
    "results[results.keys()[0]].keys()"
   ]
  },
  {
   "cell_type": "code",
   "execution_count": 28,
   "metadata": {
    "collapsed": false
   },
   "outputs": [
    {
     "data": {
      "text/plain": [
       "{u'   ASUS N551JW-CN357T (90NB08B1-M04750)   ': {'link': 'http://www.solotodo.com/products/22069-asus-n551jw-cn357t-90nb08b1-m04750/',\n",
       "  'price': u' $816.816 '},\n",
       " u'   ASUS N552VW-FI100T   ': {'link': 'http://www.solotodo.com/products/24011-asus-n552vw-fi100t/',\n",
       "  'price': u' $949.990 '},\n",
       " u'   ASUS ROG G552VW-CN452T   ': {'link': 'http://www.solotodo.com/products/24549-asus-rog-g552vw-cn452t/',\n",
       "  'price': u' $999.990 '},\n",
       " u'   HP Omen 15-AX002LA (V7R99LA)   ': {'link': 'http://www.solotodo.com/products/26672-hp-omen-15-ax002la-v7r99la/',\n",
       "  'price': u' $929.250 '},\n",
       " u'   Lenovo IdeaPad Y700-15 (I7-6700HQ / 12GB / 1TB / GTX 960M)   ': {'link': 'http://www.solotodo.com/products/25100-lenovo-ideapad-y700-15-i7-6700hq-12gb-1tb-gtx-960m/',\n",
       "  'price': u' $999.990 '}}"
      ]
     },
     "execution_count": 28,
     "metadata": {},
     "output_type": "execute_result"
    }
   ],
   "source": [
    "results"
   ]
  },
  {
   "cell_type": "markdown",
   "metadata": {},
   "source": [
    "# Subconsulta a un producto en particular"
   ]
  },
  {
   "cell_type": "code",
   "execution_count": 29,
   "metadata": {
    "collapsed": false
   },
   "outputs": [
    {
     "name": "stdout",
     "output_type": "stream",
     "text": [
      "   ASUS N552VW-FI100T   \n",
      "http://www.solotodo.com/products/24011-asus-n552vw-fi100t/\n"
     ]
    }
   ],
   "source": [
    "k = results.keys()\n",
    "product = k[0]\n",
    "link = results[k[0]]['link']\n",
    "print product\n",
    "print link"
   ]
  },
  {
   "cell_type": "markdown",
   "metadata": {},
   "source": [
    "Me interesa esta entrada\n",
    "\n",
    "```HTML\n",
    "<div class=\"col-lg-6 col-md-5 col-sm-5 col-xs-12\">\n",
    "    <div class=\"row\">\n",
    "        <div class=\"col-xs-12\">\n",
    "            <h4>Características</h4>\n",
    "            <ul class=\"with_margin_top list-without-decoration-2\">\n",
    "                <li><strong>Procesador:</strong> <a href=\"/notebooks/processors/?processor=126615\">Intel Core i7 6700HQ (2600 MHz - 3500 MHz) </a></li>\n",
    "                <li><strong>RAM:</strong> 12GB DDR4L (2133 MHz) </li>\n",
    "                <li><strong>Pantalla:</strong> LED 15.6&quot; (3840x2160) </li>\n",
    "                <li><strong>Bateria:</strong> 4 celdas (3200 mAh | 11000 mV | 48000 mWh) </li>\n",
    "                <li><strong>Almacenamiento:</strong> HDD 1TB (5400rpm) </li>\n",
    "                <li><strong>Tarjetas de video:</strong>\n",
    "                    <ul>\n",
    "                        <li><a href=\"/notebooks/video_cards/?video_card=108403\">Intel HD Graphics 530 (Integrada)</a></li>\n",
    "                        <li><a href=\"/notebooks/video_cards/?video_card=110425\">NVIDIA GeForce GTX 960M (4GB)</a></li>\n",
    "                    </ul>\n",
    "                </li>\n",
    "            </ul>\n",
    "            <h4>Especificaciones secundarias</h4>\n",
    "            <ul class=\"with_margin_top list-without-decoration-2\">\n",
    "                <li><strong>Peso:</strong> 2320 g.</li>\n",
    "                <li><strong>Dimensiones:</strong> 383 x 260 x 29 mm.</li>\n",
    "                <li><strong>Sistema Operativo:</strong> Microsoft Windows 10 Home</li>\n",
    "                <li><strong>Unidad óptica:</strong> DVD±RW / Blu-ray</li>\n",
    "                <li><strong>Puertos de video:</strong>\n",
    "                    <ul>\n",
    "                        <li> HDMI</li>\n",
    "                        <li> Mini DisplayPort</li>\n",
    "                    </ul>\n",
    "                </li>\n",
    "                </li>\n",
    "            </ul>\n",
    "            <h4>Accesorios</h4>\n",
    "            <ul class=\"with_margin_top list-without-decoration-2\">\n",
    "                <li><strong>WiFi:</strong> Genérica (802.11 b/g/n)</li>\n",
    "                <li><strong>Puertos USB:</strong> 3</li>\n",
    "                <li><strong>Webcam:</strong> 1,0 MP</li>\n",
    "                <li><strong>LAN:</strong> 10 / 100 / 1000 Mbps</li>\n",
    "                <li><strong>Adaptador de energía:</strong>120W.</li>\n",
    "                <li><strong>Lector de tarjetas:</strong> 2-en-1</li>\n",
    "                <li><strong>¿RAM de doble canal?:</strong> No</li>\n",
    "                <li><strong>¿Bluetooth?:</strong> Sí</li>\n",
    "                <li><strong>¿Lector de huellas digitales?:</strong> No</li>\n",
    "            </ul>\n",
    "\n",
    "\n",
    "            <h4>Rating según sus dueños</h4>\n",
    "\n",
    "            <div id=\"product_rating\" class=\"big_star\" data-value=\"5.0\" data-rating-url=\"/products/24011/ratings/\"></div>\n",
    "\n",
    "        </div>\n",
    "    </div>\n",
    "</div>\n",
    "</div>\n",
    "\n",
    "```"
   ]
  },
  {
   "cell_type": "markdown",
   "metadata": {},
   "source": [
    "Voy a extraer los de esta clase\n",
    "\n",
    "```html\n",
    "<ul class=\"with_margin_top list-without-decoration-2\">\n",
    "```"
   ]
  },
  {
   "cell_type": "code",
   "execution_count": 30,
   "metadata": {
    "collapsed": true
   },
   "outputs": [],
   "source": [
    "from bs4 import BeautifulSoup\n",
    "import requests\n",
    "req = requests.get(link)\n",
    "statusCode = req.status_code\n",
    "html = BeautifulSoup(req.text)"
   ]
  },
  {
   "cell_type": "code",
   "execution_count": 31,
   "metadata": {
    "collapsed": true
   },
   "outputs": [],
   "source": [
    "entradas = html.find_all('ul',{'class':'with_margin_top list-without-decoration-2'})"
   ]
  },
  {
   "cell_type": "markdown",
   "metadata": {},
   "source": [
    "Verifico que hayan 3 entradas"
   ]
  },
  {
   "cell_type": "code",
   "execution_count": 32,
   "metadata": {
    "collapsed": false
   },
   "outputs": [
    {
     "data": {
      "text/plain": [
       "3"
      ]
     },
     "execution_count": 32,
     "metadata": {},
     "output_type": "execute_result"
    }
   ],
   "source": [
    "len(entradas)"
   ]
  },
  {
   "cell_type": "markdown",
   "metadata": {},
   "source": [
    "Sacar la lista de propiedades"
   ]
  },
  {
   "cell_type": "code",
   "execution_count": 33,
   "metadata": {
    "code_folding": [],
    "collapsed": false
   },
   "outputs": [
    {
     "name": "stdout",
     "output_type": "stream",
     "text": [
      "Procesador: Intel Core i7 6700HQ (2600 MHz - 3500 MHz) \n",
      "RAM:  12GB DDR4L (2133 MHz) \n",
      "Pantalla:  LED 15.6\" (3840x2160) \n",
      "Bateria:  4 celdas (3200 mAh | 11000 mV | 48000 mWh) \n",
      "Almacenamiento:  HDD 1TB (5400rpm) \n",
      "Tarjetas de video: [u'Intel HD Graphics 530 (Integrada)', u'NVIDIA GeForce GTX 960M (4GB)']\n",
      "Peso:  2320 g.\n",
      "Dimensiones:  383 x 260 x 29 mm.\n",
      "Sistema Operativo:  Microsoft Windows 10 Home\n",
      "Unidad óptica:  DVD±RW / Blu-ray\n",
      "Puertos de video: [u' HDMI', u' Mini DisplayPort']\n",
      "WiFi:  Genérica (802.11 b/g/n)\n",
      "Puertos USB:  3\n",
      "Webcam:  1,0 MP\n",
      "LAN:  10 / 100 / 1000 Mbps\n",
      "Adaptador de energía: 120W.\n",
      "Lector de tarjetas:  2-en-1\n",
      "¿RAM de doble canal?:  No\n",
      "¿Bluetooth?:  Sí\n",
      "¿Lector de huellas digitales?:  No\n"
     ]
    }
   ],
   "source": [
    "propsDict = {}\n",
    "for e in entradas:\n",
    "    props = e.find_all('li',recursive=False)\n",
    "\n",
    "    for i,p in enumerate(props):\n",
    "        header = p.contents[0].getText()\n",
    "        if len(p.findAll('li'))>0:\n",
    "            props[i] = [pi.getText() for pi in p.findAll('li')]\n",
    "        elif len(p.findAll('a'))>0:\n",
    "            props[i] = p.contents[-1].getText()\n",
    "        else:\n",
    "            props[i] = p.contents[-1]\n",
    "        propsDict[header]= props[i]   \n",
    "        print header,propsDict[header]"
   ]
  },
  {
   "cell_type": "markdown",
   "metadata": {},
   "source": [
    "Modularizar en una función"
   ]
  },
  {
   "cell_type": "code",
   "execution_count": 34,
   "metadata": {
    "collapsed": false
   },
   "outputs": [
    {
     "data": {
      "text/plain": [
       "200"
      ]
     },
     "execution_count": 34,
     "metadata": {},
     "output_type": "execute_result"
    }
   ],
   "source": [
    "statusCode"
   ]
  },
  {
   "cell_type": "code",
   "execution_count": 35,
   "metadata": {
    "collapsed": true
   },
   "outputs": [],
   "source": [
    "from bs4 import BeautifulSoup\n",
    "import requests\n",
    "\n",
    "def getDetails(url):\n",
    "    req = requests.get(link)\n",
    "    statusCode = req.status_code\n",
    "    if statusCode==200:\n",
    "        html = BeautifulSoup(req.text)    \n",
    "        \n",
    "    entradas = html.find_all('ul',{'class':'with_margin_top list-without-decoration-2'})\n",
    "    \n",
    "    propsDict = {}\n",
    "    for e in entradas:\n",
    "        props = e.find_all('li',recursive=False)\n",
    "\n",
    "        for i,p in enumerate(props):\n",
    "            header = p.contents[0].getText()\n",
    "            if len(p.findAll('li'))>0:\n",
    "                props[i] = [pi.getText() for pi in p.findAll('li')]\n",
    "            elif len(p.findAll('a'))>0:\n",
    "                props[i] = p.contents[-1].getText()\n",
    "            else:\n",
    "                props[i] = p.contents[-1]\n",
    "            propsDict[header]= props[i]   \n",
    "    return propsDict"
   ]
  },
  {
   "cell_type": "code",
   "execution_count": 36,
   "metadata": {
    "collapsed": true
   },
   "outputs": [],
   "source": [
    "r = getDetails(link)"
   ]
  },
  {
   "cell_type": "code",
   "execution_count": 37,
   "metadata": {
    "collapsed": false
   },
   "outputs": [
    {
     "data": {
      "text/plain": [
       "[u'Pantalla:',\n",
       " u'Procesador:',\n",
       " u'Almacenamiento:',\n",
       " u'RAM:',\n",
       " u'Webcam:',\n",
       " u'\\xbfBluetooth?:',\n",
       " u'Puertos USB:',\n",
       " u'\\xbfLector de huellas digitales?:',\n",
       " u'Sistema Operativo:',\n",
       " u'\\xbfRAM de doble canal?:',\n",
       " u'Unidad \\xf3ptica:',\n",
       " u'WiFi:',\n",
       " u'Lector de tarjetas:',\n",
       " u'Dimensiones:',\n",
       " u'Tarjetas de video:',\n",
       " u'Adaptador de energ\\xeda:',\n",
       " u'Bateria:',\n",
       " u'LAN:',\n",
       " u'Peso:',\n",
       " u'Puertos de video:']"
      ]
     },
     "execution_count": 37,
     "metadata": {},
     "output_type": "execute_result"
    }
   ],
   "source": [
    "r.keys()"
   ]
  },
  {
   "cell_type": "markdown",
   "metadata": {},
   "source": [
    "# Considerando todos los productos encontrados"
   ]
  },
  {
   "cell_type": "code",
   "execution_count": 38,
   "metadata": {
    "collapsed": false
   },
   "outputs": [
    {
     "name": "stdout",
     "output_type": "stream",
     "text": [
      "[u'   ASUS N552VW-FI100T   ', u'   HP Omen 15-AX002LA (V7R99LA)   ', u'   Lenovo IdeaPad Y700-15 (I7-6700HQ / 12GB / 1TB / GTX 960M)   ', u'   ASUS N551JW-CN357T (90NB08B1-M04750)   ', u'   ASUS ROG G552VW-CN452T   ']\n",
      "   ASUS N552VW-FI100T   \n",
      "http://www.solotodo.com/products/24011-asus-n552vw-fi100t/\n"
     ]
    }
   ],
   "source": [
    "results = getProductsURL(qURL)\n",
    "k = results.keys()\n",
    "product = k[0]\n",
    "link = results[k[0]]['link']\n",
    "print k\n",
    "print product\n",
    "print link"
   ]
  },
  {
   "cell_type": "code",
   "execution_count": 39,
   "metadata": {
    "collapsed": true
   },
   "outputs": [],
   "source": [
    "r = getDetails(link)"
   ]
  },
  {
   "cell_type": "code",
   "execution_count": 40,
   "metadata": {
    "collapsed": true
   },
   "outputs": [],
   "source": [
    "for k in results.keys():\n",
    "    link = results[k]['link']\n",
    "    details = getDetails(link)\n",
    "    results[k]['details'] = details"
   ]
  },
  {
   "cell_type": "code",
   "execution_count": 41,
   "metadata": {
    "collapsed": false
   },
   "outputs": [
    {
     "data": {
      "text/plain": [
       "['price', 'link', 'details']"
      ]
     },
     "execution_count": 41,
     "metadata": {},
     "output_type": "execute_result"
    }
   ],
   "source": [
    "results[results.keys()[0]].keys()"
   ]
  },
  {
   "cell_type": "markdown",
   "metadata": {},
   "source": [
    "# Modularizar todo a un archivo"
   ]
  },
  {
   "cell_type": "code",
   "execution_count": 49,
   "metadata": {
    "collapsed": true
   },
   "outputs": [],
   "source": [
    "%reset -f"
   ]
  },
  {
   "cell_type": "code",
   "execution_count": 50,
   "metadata": {
    "collapsed": false
   },
   "outputs": [
    {
     "name": "stdout",
     "output_type": "stream",
     "text": [
      "Overwriting solocatalogo.py\n"
     ]
    }
   ],
   "source": [
    "%%writefile solocatalogo.py\n",
    "\n",
    "from bs4 import BeautifulSoup\n",
    "import requests\n",
    "\n",
    "def getProductsURL(URL):\n",
    "    # Realizamos la peticin a la web\n",
    "    req = requests.get(URL)\n",
    "    # Comprobamos que la peticin nos devuelve un Status Code = 200\n",
    "    statusCode = req.status_code\n",
    "    if statusCode==200:\n",
    "        # Pasamos el contenido HTML de la web a un objeto BeautifulSoup()\n",
    "        html = BeautifulSoup(req.text)\n",
    "        # Obtenemos todos los divs donde estan las entradas\n",
    "        entradas = html.find_all('div',{'class':'search_result'})\n",
    "                \n",
    "        products = {}\n",
    "        \n",
    "        for i,entrada in enumerate(entradas):\n",
    "            productPrice = entrada.find('a',{'class':'search-result-price'}).getText()\n",
    "            productLink = entrada.find('a',{'class':'link'}).attrs['href']\n",
    "            productLink = 'http://www.solotodo.com'+productLink\n",
    "            productTitle = entrada.find('h4',{'class':'search-result-title'}).getText()\n",
    "            products[productTitle] = {\n",
    "                'link': productLink,\n",
    "                'price': productPrice\n",
    "            }\n",
    "        return products\n",
    "    else:\n",
    "        return\n"
   ]
  },
  {
   "cell_type": "code",
   "execution_count": 51,
   "metadata": {
    "collapsed": false
   },
   "outputs": [
    {
     "name": "stdout",
     "output_type": "stream",
     "text": [
      "Appending to solocatalogo.py\n"
     ]
    }
   ],
   "source": [
    "%%writefile solocatalogo.py -a\n",
    "\n",
    "def getDetails(link):\n",
    "    req = requests.get(link)\n",
    "    statusCode = req.status_code\n",
    "    if statusCode==200:\n",
    "        html = BeautifulSoup(req.text)    \n",
    "        \n",
    "    entradas = html.find_all('ul',{'class':'with_margin_top list-without-decoration-2'})\n",
    "    \n",
    "    propsDict = {}\n",
    "    for e in entradas:\n",
    "        props = e.find_all('li',recursive=False)\n",
    "\n",
    "        for i,p in enumerate(props):\n",
    "            header = p.contents[0].getText()\n",
    "            if len(p.findAll('li'))>0:\n",
    "                props[i] = [pi.getText() for pi in p.findAll('li')]\n",
    "            elif len(p.findAll('a'))>0:\n",
    "                props[i] = p.contents[-1].getText()\n",
    "            else:\n",
    "                props[i] = p.contents[-1]\n",
    "            propsDict[header]= props[i]   \n",
    "    return propsDict"
   ]
  },
  {
   "cell_type": "code",
   "execution_count": 52,
   "metadata": {
    "collapsed": false
   },
   "outputs": [
    {
     "name": "stdout",
     "output_type": "stream",
     "text": [
      "Appending to solocatalogo.py\n"
     ]
    }
   ],
   "source": [
    "%%writefile solocatalogo.py -a\n",
    "\n",
    "def getCatalog(qURL):\n",
    "    catalog = getProductsURL(qURL)\n",
    "    for product in catalog.keys():\n",
    "        link = catalog[product]['link']\n",
    "        details = getDetails(link)\n",
    "        catalog[product]['details'] = details\n",
    "    return catalog"
   ]
  },
  {
   "cell_type": "code",
   "execution_count": 53,
   "metadata": {
    "collapsed": true
   },
   "outputs": [],
   "source": [
    "qURL= \"http://www.solotodo.com/notebooks/?min_price=99990&max_price=1001329&keywords=&notebook_brand=&notebook_line=&processor_brand=&processor_line_family=&processor=&ram_quantity=103199&ram_type=&storage_capacity=&storage_type=&storage_rpm=&min_screen_size=103114&max_screen_size=103150&screen_resolution=&screen_touch=&video_card_type=&video_card_brand=&video_card_line=103900&video_card=110425&operating_system=&optical_drive=&advanced_controls=1&ordering=\""
   ]
  },
  {
   "cell_type": "code",
   "execution_count": 54,
   "metadata": {
    "collapsed": false
   },
   "outputs": [],
   "source": [
    "import solocatalogo as sc\n",
    "cat = sc.getCatalog(qURL)"
   ]
  },
  {
   "cell_type": "code",
   "execution_count": 56,
   "metadata": {
    "collapsed": false
   },
   "outputs": [
    {
     "data": {
      "text/plain": [
       "[u'   ASUS N552VW-FI100T   ',\n",
       " u'   HP Omen 15-AX002LA (V7R99LA)   ',\n",
       " u'   Lenovo IdeaPad Y700-15 (I7-6700HQ / 12GB / 1TB / GTX 960M)   ',\n",
       " u'   ASUS N551JW-CN357T (90NB08B1-M04750)   ',\n",
       " u'   ASUS ROG G552VW-CN452T   ']"
      ]
     },
     "execution_count": 56,
     "metadata": {},
     "output_type": "execute_result"
    }
   ],
   "source": [
    "cat.keys()"
   ]
  },
  {
   "cell_type": "code",
   "execution_count": null,
   "metadata": {
    "collapsed": true
   },
   "outputs": [],
   "source": []
  }
 ],
 "metadata": {
  "kernelspec": {
   "display_name": "Python 2",
   "language": "python",
   "name": "python2"
  },
  "language_info": {
   "codemirror_mode": {
    "name": "ipython",
    "version": 2
   },
   "file_extension": ".py",
   "mimetype": "text/x-python",
   "name": "python",
   "nbconvert_exporter": "python",
   "pygments_lexer": "ipython2",
   "version": "2.7.11"
  }
 },
 "nbformat": 4,
 "nbformat_minor": 0
}
