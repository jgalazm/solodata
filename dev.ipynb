{
 "cells": [
  {
   "cell_type": "markdown",
   "metadata": {},
   "source": [
    "Based on this tutorial:\n",
    "\n",
    "http://jarroba.com/scraping-python-beautifulsoup-ejemplos/"
   ]
  },
  {
   "cell_type": "markdown",
   "metadata": {},
   "source": [
    "El código del ejemplo:\n",
    "\n",
    "```python\n",
    "# -*- coding: utf-8 -*-\n",
    "__author__ = 'RicardoMoya'\n",
    "\n",
    "from bs4 import BeautifulSoup\n",
    "import requests\n",
    "\n",
    "url = \"http://jarroba.com/\"\n",
    "\n",
    "# Realizamos la petición a la web\n",
    "req = requests.get(url)\n",
    "\n",
    "# Comprobamos que la petición nos devuelve un Status Code = 200\n",
    "statusCode = req.status_code\n",
    "if statusCode == 200:\n",
    "\n",
    "    # Pasamos el contenido HTML de la web a un objeto BeautifulSoup()\n",
    "    html = BeautifulSoup(req.text)\n",
    "\n",
    "    # Obtenemos todos los divs donde estan las entradas\n",
    "    entradas = html.find_all('div',{'class':'col-md-4 col-xs-12'})\n",
    "\n",
    "    # Recorremos todas las entradas para extraer el título, autor y fecha\n",
    "    for i,entrada in enumerate(entradas):\n",
    "        # Con el método \"getText()\" no nos devuelve el HTML\n",
    "        titulo = entrada.find('span', {'class' : 'tituloPost'}).getText()\n",
    "        # Sino llamamos al método \"getText()\" nos devuelve también el HTML\n",
    "        autor = entrada.find('span', {'class' : 'autor'})\n",
    "        fecha = entrada.find('span', {'class' : 'fecha'}).getText()\n",
    "\n",
    "        # Imprimo el Título, Autor y Fecha de las entradas\n",
    "        print \"%d - %s  |  %s  |  %s\" %(i+1,titulo,autor,fecha)\n",
    "\n",
    "else:\n",
    "    print \"Status Code %d\" %statusCode\n",
    "```"
   ]
  },
  {
   "cell_type": "markdown",
   "metadata": {},
   "source": [
    "# Ejemplo de referencia"
   ]
  },
  {
   "cell_type": "code",
   "execution_count": 1,
   "metadata": {
    "collapsed": true
   },
   "outputs": [],
   "source": [
    "from bs4 import BeautifulSoup\n",
    "import requests"
   ]
  },
  {
   "cell_type": "markdown",
   "metadata": {},
   "source": [
    "Realizar la petición a la web"
   ]
  },
  {
   "cell_type": "code",
   "execution_count": 2,
   "metadata": {
    "collapsed": false
   },
   "outputs": [],
   "source": [
    "url = \"http://jarroba.com/\"\n",
    "req = requests.get(url)"
   ]
  },
  {
   "cell_type": "markdown",
   "metadata": {},
   "source": [
    "Comprobamos que la petición nos devuelve un Status Code = 200"
   ]
  },
  {
   "cell_type": "code",
   "execution_count": 3,
   "metadata": {
    "collapsed": false
   },
   "outputs": [
    {
     "name": "stdout",
     "output_type": "stream",
     "text": [
      "200\n"
     ]
    }
   ],
   "source": [
    "statusCode = req.status_code\n",
    "print statusCode"
   ]
  },
  {
   "cell_type": "markdown",
   "metadata": {},
   "source": [
    "Pasamos el contenido HTML de la web a un objeto BeautifulSoup()"
   ]
  },
  {
   "cell_type": "code",
   "execution_count": 4,
   "metadata": {
    "collapsed": false
   },
   "outputs": [
    {
     "name": "stderr",
     "output_type": "stream",
     "text": [
      "/home/jose/anaconda2/lib/python2.7/site-packages/bs4/__init__.py:166: UserWarning: No parser was explicitly specified, so I'm using the best available HTML parser for this system (\"lxml\"). This usually isn't a problem, but if you run this code on another system, or in a different virtual environment, it may use a different parser and behave differently.\n",
      "\n",
      "To get rid of this warning, change this:\n",
      "\n",
      " BeautifulSoup([your markup])\n",
      "\n",
      "to this:\n",
      "\n",
      " BeautifulSoup([your markup], \"lxml\")\n",
      "\n",
      "  markup_type=markup_type))\n"
     ]
    }
   ],
   "source": [
    "html = BeautifulSoup(req.text)"
   ]
  },
  {
   "cell_type": "markdown",
   "metadata": {},
   "source": [
    "Obtenemos todos los divs donde estan las entradas"
   ]
  },
  {
   "cell_type": "code",
   "execution_count": 5,
   "metadata": {
    "collapsed": true
   },
   "outputs": [],
   "source": [
    "entradas = html.find_all('div',{'class':'col-md-4 col-xs-12'})"
   ]
  },
  {
   "cell_type": "markdown",
   "metadata": {},
   "source": [
    "Recorremos todas las entradas para extraer el título, autor y fecha"
   ]
  },
  {
   "cell_type": "code",
   "execution_count": 6,
   "metadata": {
    "collapsed": false,
    "scrolled": true
   },
   "outputs": [
    {
     "name": "stdout",
     "output_type": "stream",
     "text": [
      "1 - Dígito de control – Detección de errores  |  <span class=\"autor\">Por: Ramón\tInvarato</span>  |  21-Jul-2016\n",
      "2 - Expectation-maximization en Python y Scikit-learn, con ejemplos  |  <span class=\"autor\">Por: Ricardo\tMoya</span>  |  20-Jun-2016\n",
      "3 - K-means en Python y Scikit-learn, con ejemplos  |  <span class=\"autor\">Por: Ricardo\tMoya</span>  |  29-May-2016\n",
      "4 - ¿Que es el Clustering?  |  <span class=\"autor\">Por: Ricardo\tMoya</span>  |  25-Mar-2016\n",
      "5 - Código Hash  |  <span class=\"autor\">Por: Ramón\tInvarato</span>  |  02-Mar-2016\n",
      "6 - ¿Qué es el Machine Learning?  |  <span class=\"autor\">Por: Ricardo\tMoya</span>  |  30-Ene-2016\n",
      "7 - Lectura y Escritura de ficheros en Python, con ejemplos  |  <span class=\"autor\">Por: Ricardo\tMoya</span>  |  31-Dic-2015\n",
      "8 - Patrón Singleton en Java, con ejemplos  |  <span class=\"autor\">Por: Ricardo\tMoya</span>  |  21-Dic-2015\n",
      "9 - Cliente-Servidor: Petición del Cliente  |  <span class=\"autor\">Por: Ramón\tInvarato</span>  |  29-Nov-2015\n"
     ]
    }
   ],
   "source": [
    "for i,entrada in enumerate(entradas):\n",
    "    # Con el método \"getText()\" no nos devuelve el HTML\n",
    "    titulo = entrada.find('span', {'class' : 'tituloPost'}).getText()\n",
    "    # Sino llamamos al método \"getText()\" nos devuelve también el HTML\n",
    "    autor = entrada.find('span', {'class' : 'autor'})\n",
    "    fecha = entrada.find('span', {'class' : 'fecha'}).getText()\n",
    "    # Imprimo el Título, Autor y Fecha de las entradas\n",
    "    print \"%d - %s  |  %s  |  %s\" %(i+1,titulo,autor,fecha)\n",
    "    "
   ]
  },
  {
   "cell_type": "markdown",
   "metadata": {},
   "source": [
    "# Ejemplo de una búsqueda en solonotebooks"
   ]
  },
  {
   "cell_type": "markdown",
   "metadata": {},
   "source": [
    "Primero pruebo con un ejemplo facil: sólo notebooks con NVIDIA GeForce GTX 980M (8GB)"
   ]
  },
  {
   "cell_type": "code",
   "execution_count": 7,
   "metadata": {
    "collapsed": true
   },
   "outputs": [],
   "source": [
    "% reset -f"
   ]
  },
  {
   "cell_type": "code",
   "execution_count": 8,
   "metadata": {
    "collapsed": true
   },
   "outputs": [],
   "source": [
    "from bs4 import BeautifulSoup\n",
    "import requests"
   ]
  },
  {
   "cell_type": "markdown",
   "metadata": {},
   "source": [
    "Realizamos la petición a la web"
   ]
  },
  {
   "cell_type": "code",
   "execution_count": 9,
   "metadata": {
    "collapsed": true
   },
   "outputs": [],
   "source": [
    "url = \"http://www.solotodo.com/notebooks/?\"+\\\n",
    "    \"min_price=99990&max_price=1001329&keywords=&\"+\\\n",
    "    \"notebook_brand=&notebook_line=&processor_brand=&\"+\\\n",
    "    \"processor_line_family=&processor=&ram_quantity=103199&\"+\\\n",
    "    \"ram_type=&storage_capacity=&storage_type=&storage_rpm=&\"+\\\n",
    "    \"min_screen_size=103114&max_screen_size=103150&screen_resolution=&\"+\\\n",
    "    \"screen_touch=&video_card_type=&video_card_brand=&video_card_line=103900&\"+\\\n",
    "    \"video_card=110425&operating_system=&optical_drive=&advanced_controls=1&ordering=\"\n",
    "\n",
    "\n",
    "req = requests.get(url)"
   ]
  },
  {
   "cell_type": "markdown",
   "metadata": {},
   "source": [
    "Comprobamos que la petición nos devuelve un Status Code = 200"
   ]
  },
  {
   "cell_type": "code",
   "execution_count": 10,
   "metadata": {
    "collapsed": false
   },
   "outputs": [
    {
     "data": {
      "text/plain": [
       "200"
      ]
     },
     "execution_count": 10,
     "metadata": {},
     "output_type": "execute_result"
    }
   ],
   "source": [
    "statusCode = req.status_code\n",
    "statusCode"
   ]
  },
  {
   "cell_type": "markdown",
   "metadata": {},
   "source": [
    "Pasamos el contenido HTML de la web a un objeto BeautifulSoup()"
   ]
  },
  {
   "cell_type": "code",
   "execution_count": 11,
   "metadata": {
    "collapsed": false
   },
   "outputs": [],
   "source": [
    "html = BeautifulSoup(req.text,\"lxml\")"
   ]
  },
  {
   "cell_type": "markdown",
   "metadata": {},
   "source": [
    "Obtenemos todos los divs donde estan las entradas"
   ]
  },
  {
   "cell_type": "code",
   "execution_count": 12,
   "metadata": {
    "collapsed": false
   },
   "outputs": [],
   "source": [
    "entradas = html.find_all('div',{'class':'search_result'})"
   ]
  },
  {
   "cell_type": "markdown",
   "metadata": {},
   "source": [
    "La entrada que recibimos es parecida a esta\n",
    "```html\n",
    "<div class=\"search_result\">\n",
    "    <h4 class=\"search-result-title\"> <strong> <a class=\"link\" href=/products/22069-asus-n551jw-cn357t-90nb08b1-m04750/> ASUS N551JW-CN357T (90NB08B1-M04750) </a> </strong> </h4>\n",
    "    <div class=\"search-result-image-container\"> <a href=/products/22069-asus-n551jw-cn357t-90nb08b1-m04750/> <img src=\"https://solotodo.s3.amazonaws.com/cache/a6/1e/a61e98a9665ae38829ea00ce8454578f.png\" width=\"400\" height=\"325\"> </a>\n",
    "    </div>\n",
    "    <div class=\"search-result-caption\">\n",
    "        <ul class=\"with_margin_top list-without-decoration\">\n",
    "            <li><strong>Procesador:</strong> Intel Core i7 4720HQ (2600 MHz - 3600 MHz) </li>\n",
    "            <li><strong>RAM:</strong> 12GB DDR3L (1600 MHz) </li>\n",
    "            <li><strong>Pantalla:</strong> LED 15.6&quot; (1920x1080) </li>\n",
    "            <li><strong>Almacenamiento:</strong> HDD 1TB (5400rpm) </li>\n",
    "            <li><strong>Tarjetas de video:</strong>\n",
    "                <ul>\n",
    "                    <li>Intel HD Graphics 4600 (Integrada)</li>\n",
    "                    <li>NVIDIA GeForce GTX 960M (4GB)</li>\n",
    "                </ul>\n",
    "            </li>\n",
    "        </ul>\n",
    "    </div>\n",
    "    <div class=\"with_margin_top\"> <a class=\"search-result-price\" href=/products/22069-asus-n551jw-cn357t-90nb08b1-m04750/> $816.816 </a>\n",
    " ...\n",
    " ```"
   ]
  },
  {
   "cell_type": "markdown",
   "metadata": {},
   "source": [
    "Tenemos varias entradas de este tipo"
   ]
  },
  {
   "cell_type": "code",
   "execution_count": 13,
   "metadata": {
    "collapsed": false
   },
   "outputs": [
    {
     "data": {
      "text/plain": [
       "[<div class=\"search_result\">\\n<h4 class=\"search-result-title\"> <strong> <a class=\"link\" href=\"/products/22069-asus-n551jw-cn357t-90nb08b1-m04750/\"> ASUS N551JW-CN357T (90NB08B1-M04750) </a> </strong> </h4> <div class=\"search-result-image-container\"> <a href=\"/products/22069-asus-n551jw-cn357t-90nb08b1-m04750/\"> <img height=\"325\" src=\"https://solotodo.s3.amazonaws.com/cache/a6/1e/a61e98a9665ae38829ea00ce8454578f.png\" width=\"400\"/> </a> </div> <div class=\"search-result-caption\"> <ul class=\"with_margin_top list-without-decoration\"> <li><strong>Procesador:</strong> Intel Core i7 4720HQ (2600 MHz - 3600 MHz) </li> <li><strong>RAM:</strong> 12GB DDR3L (1600 MHz) </li> <li><strong>Pantalla:</strong> LED 15.6\" (1920x1080) </li> <li><strong>Almacenamiento:</strong> HDD 1TB (5400rpm) </li> <li><strong>Tarjetas de video:</strong> <ul><li>Intel HD Graphics 4600 (Integrada)</li><li>NVIDIA GeForce GTX 960M (4GB)</li> </ul></li> </ul> </div> <div class=\"with_margin_top\"> <a class=\"search-result-price\" href=\"/products/22069-asus-n551jw-cn357t-90nb08b1-m04750/\"> $816.816 </a> </div>\\n</div>,\n",
       " <div class=\"search_result\">\\n<h4 class=\"search-result-title\"> <strong> <a class=\"link\" href=\"/products/26672-hp-omen-15-ax002la-v7r99la/\"> HP Omen 15-AX002LA (V7R99LA) </a> </strong> </h4> <div class=\"search-result-image-container\"> <a href=\"/products/26672-hp-omen-15-ax002la-v7r99la/\"> <img height=\"259\" src=\"https://solotodo.s3.amazonaws.com/cache/df/66/df66e4ba41b3778e96e38d12ac0a7f43.png\" width=\"400\"/> </a> </div> <div class=\"search-result-caption\"> <ul class=\"with_margin_top list-without-decoration\"> <li><strong>Procesador:</strong> Intel Core i7 6700HQ (2600 MHz - 3500 MHz) </li> <li><strong>RAM:</strong> 16GB DDR4 (2133 MHz) </li> <li><strong>Pantalla:</strong> LED 15.6\" (1920x1080) </li> <li><strong>Almacenamiento:</strong> <ul><li>HDD 1TB (5400rpm)</li><li>M.2 128GB</li> </ul> </li> <li><strong>Tarjetas de video:</strong> <ul><li>Intel HD Graphics 530 (Integrada)</li><li>NVIDIA GeForce GTX 960M (4GB)</li> </ul></li> </ul> </div> <div class=\"with_margin_top\"> <a class=\"search-result-price\" href=\"/products/26672-hp-omen-15-ax002la-v7r99la/\"> $929.250 </a> </div>\\n</div>,\n",
       " <div class=\"search_result\">\\n<h4 class=\"search-result-title\"> <strong> <a class=\"link\" href=\"/products/25100-lenovo-ideapad-y700-15-i7-6700hq-12gb-1tb-gtx-960m/\"> Lenovo IdeaPad Y700-15 (I7-6700HQ / 12GB / 1TB / GTX 960M) </a> </strong> </h4> <div class=\"search-result-image-container\"> <a href=\"/products/25100-lenovo-ideapad-y700-15-i7-6700hq-12gb-1tb-gtx-960m/\"> <img height=\"225\" src=\"https://solotodo.s3.amazonaws.com/cache/d2/1a/d21a62c5a0a211d21bddc69f2fab6b9f.png\" width=\"400\"/> </a> </div> <div class=\"search-result-caption\"> <ul class=\"with_margin_top list-without-decoration\"> <li><strong>Procesador:</strong> Intel Core i7 6700HQ (2600 MHz - 3500 MHz) </li> <li><strong>RAM:</strong> 12GB DDR4 (2133 MHz) </li> <li><strong>Pantalla:</strong> LED 15.6\" (1920x1080) </li> <li><strong>Almacenamiento:</strong> HDD 1TB (5400rpm) </li> <li><strong>Tarjetas de video:</strong> <ul><li>Intel HD Graphics 530 (Integrada)</li><li>NVIDIA GeForce GTX 960M (4GB)</li> </ul></li> </ul> </div> <div class=\"with_margin_top\"> <a class=\"search-result-price\" href=\"/products/25100-lenovo-ideapad-y700-15-i7-6700hq-12gb-1tb-gtx-960m/\"> $949.990 </a> </div>\\n</div>,\n",
       " <div class=\"search_result\">\\n<h4 class=\"search-result-title\"> <strong> <a class=\"link\" href=\"/products/24011-asus-n552vw-fi100t/\"> ASUS N552VW-FI100T </a> </strong> </h4> <div class=\"search-result-image-container\"> <a href=\"/products/24011-asus-n552vw-fi100t/\"> <img height=\"269\" src=\"https://solotodo.s3.amazonaws.com/cache/f2/fd/f2fd697b2bfc3fc24d3faa0f98c9d171.png\" width=\"400\"/> </a> </div> <div class=\"search-result-caption\"> <ul class=\"with_margin_top list-without-decoration\"> <li><strong>Procesador:</strong> Intel Core i7 6700HQ (2600 MHz - 3500 MHz) </li> <li><strong>RAM:</strong> 12GB DDR4L (2133 MHz) </li> <li><strong>Pantalla:</strong> LED 15.6\" (3840x2160) </li> <li><strong>Almacenamiento:</strong> HDD 1TB (5400rpm) </li> <li><strong>Tarjetas de video:</strong> <ul><li>Intel HD Graphics 530 (Integrada)</li><li>NVIDIA GeForce GTX 960M (4GB)</li> </ul></li> </ul> </div> <div class=\"with_margin_top\"> <a class=\"search-result-price\" href=\"/products/24011-asus-n552vw-fi100t/\"> $949.990 </a> </div>\\n</div>,\n",
       " <div class=\"search_result\">\\n<h4 class=\"search-result-title\"> <strong> <a class=\"link\" href=\"/products/24549-asus-rog-g552vw-cn452t/\"> ASUS ROG G552VW-CN452T </a> </strong> </h4> <div class=\"search-result-image-container\"> <a href=\"/products/24549-asus-rog-g552vw-cn452t/\"> <img height=\"264\" src=\"https://solotodo.s3.amazonaws.com/cache/80/a0/80a0a2c2df2daaad8537fd43da8d04ac.png\" width=\"400\"/> </a> </div> <div class=\"search-result-caption\"> <ul class=\"with_margin_top list-without-decoration\"> <li><strong>Procesador:</strong> Intel Core i7 6700HQ (2600 MHz - 3500 MHz) </li> <li><strong>RAM:</strong> 16GB DDR4 (2133 MHz) </li> <li><strong>Pantalla:</strong> LED 15.6\" (1920x1080) </li> <li><strong>Almacenamiento:</strong> <ul><li>HDD 1TB (7200rpm)</li><li>SSD 128GB</li> </ul> </li> <li><strong>Tarjetas de video:</strong> <ul><li>Intel HD Graphics 530 (Integrada)</li><li>NVIDIA GeForce GTX 960M (4GB)</li> </ul></li> </ul> </div> <div class=\"with_margin_top\"> <a class=\"search-result-price\" href=\"/products/24549-asus-rog-g552vw-cn452t/\"> $999.990 </a> </div>\\n</div>]"
      ]
     },
     "execution_count": 13,
     "metadata": {},
     "output_type": "execute_result"
    }
   ],
   "source": [
    "entradas"
   ]
  },
  {
   "cell_type": "markdown",
   "metadata": {},
   "source": [
    "Que corresponden a los resultados de la búsqueda"
   ]
  },
  {
   "cell_type": "markdown",
   "metadata": {},
   "source": [
    "Voy a probar una entrada en particular, la idea es después hacer el loop sobre todas las entradas en la página."
   ]
  },
  {
   "cell_type": "code",
   "execution_count": 14,
   "metadata": {
    "collapsed": false
   },
   "outputs": [
    {
     "name": "stdout",
     "output_type": "stream",
     "text": [
      "<div class=\"search_result\">\n",
      "<h4 class=\"search-result-title\"> <strong> <a class=\"link\" href=\"/products/26672-hp-omen-15-ax002la-v7r99la/\"> HP Omen 15-AX002LA (V7R99LA) </a> </strong> </h4> <div class=\"search-result-image-container\"> <a href=\"/products/26672-hp-omen-15-ax002la-v7r99la/\"> <img height=\"259\" src=\"https://solotodo.s3.amazonaws.com/cache/df/66/df66e4ba41b3778e96e38d12ac0a7f43.png\" width=\"400\"/> </a> </div> <div class=\"search-result-caption\"> <ul class=\"with_margin_top list-without-decoration\"> <li><strong>Procesador:</strong> Intel Core i7 6700HQ (2600 MHz - 3500 MHz) </li> <li><strong>RAM:</strong> 16GB DDR4 (2133 MHz) </li> <li><strong>Pantalla:</strong> LED 15.6\" (1920x1080) </li> <li><strong>Almacenamiento:</strong> <ul><li>HDD 1TB (5400rpm)</li><li>M.2 128GB</li> </ul> </li> <li><strong>Tarjetas de video:</strong> <ul><li>Intel HD Graphics 530 (Integrada)</li><li>NVIDIA GeForce GTX 960M (4GB)</li> </ul></li> </ul> </div> <div class=\"with_margin_top\"> <a class=\"search-result-price\" href=\"/products/26672-hp-omen-15-ax002la-v7r99la/\"> $929.250 </a> </div>\n",
      "</div>\n"
     ]
    }
   ],
   "source": [
    "i = 0; entrada = entradas[1]\n",
    "print entrada"
   ]
  },
  {
   "cell_type": "markdown",
   "metadata": {},
   "source": [
    "Encuentra el título"
   ]
  },
  {
   "cell_type": "code",
   "execution_count": 15,
   "metadata": {
    "collapsed": false
   },
   "outputs": [
    {
     "name": "stdout",
     "output_type": "stream",
     "text": [
      "   HP Omen 15-AX002LA (V7R99LA)   \n"
     ]
    }
   ],
   "source": [
    "print entrada.find('h4',{'class':'search-result-title'}).getText()\n"
   ]
  },
  {
   "cell_type": "markdown",
   "metadata": {},
   "source": [
    "Encuentra el precio"
   ]
  },
  {
   "cell_type": "code",
   "execution_count": 16,
   "metadata": {
    "collapsed": false,
    "scrolled": true
   },
   "outputs": [
    {
     "name": "stdout",
     "output_type": "stream",
     "text": [
      " $929.250 \n"
     ]
    }
   ],
   "source": [
    "print entrada.find('a',{'class':'search-result-price'}).getText()"
   ]
  },
  {
   "cell_type": "markdown",
   "metadata": {},
   "source": [
    "Obtener el \"ul\" con los detalles de la entrada actual"
   ]
  },
  {
   "cell_type": "code",
   "execution_count": 17,
   "metadata": {
    "collapsed": false,
    "scrolled": true
   },
   "outputs": [
    {
     "name": "stdout",
     "output_type": "stream",
     "text": [
      "<ul class=\"with_margin_top list-without-decoration\"> <li><strong>Procesador:</strong> Intel Core i7 6700HQ (2600 MHz - 3500 MHz) </li> <li><strong>RAM:</strong> 16GB DDR4 (2133 MHz) </li> <li><strong>Pantalla:</strong> LED 15.6\" (1920x1080) </li> <li><strong>Almacenamiento:</strong> <ul><li>HDD 1TB (5400rpm)</li><li>M.2 128GB</li> </ul> </li> <li><strong>Tarjetas de video:</strong> <ul><li>Intel HD Graphics 530 (Integrada)</li><li>NVIDIA GeForce GTX 960M (4GB)</li> </ul></li> </ul>\n"
     ]
    }
   ],
   "source": [
    "detalles = entrada.find('ul',{'class':'with_margin_top list-without-decoration'})\n",
    "print detalles"
   ]
  },
  {
   "cell_type": "markdown",
   "metadata": {},
   "source": [
    "Del ul extrae las propiedades examinando si tiene \"li\" dentro"
   ]
  },
  {
   "cell_type": "code",
   "execution_count": 18,
   "metadata": {
    "collapsed": false
   },
   "outputs": [],
   "source": [
    "props = detalles.find_all('li',recursive=False)\n",
    "propsDict = {}\n",
    "for i,p in enumerate(props):\n",
    "    header = p.contents[0].getText()\n",
    "    if len(p.findAll('li'))>0:\n",
    "        props[i] = [pi.getText() for pi in p.findAll('li')]\n",
    "    else:\n",
    "        props[i] = p.getText()\n",
    "    propsDict[header]= props[i]"
   ]
  },
  {
   "cell_type": "code",
   "execution_count": 19,
   "metadata": {
    "collapsed": false
   },
   "outputs": [
    {
     "data": {
      "text/plain": [
       "{u'Almacenamiento:': [u'HDD 1TB (5400rpm)', u'M.2 128GB'],\n",
       " u'Pantalla:': u'Pantalla: LED 15.6\" (1920x1080) ',\n",
       " u'Procesador:': u'Procesador: Intel Core i7 6700HQ (2600 MHz - 3500 MHz) ',\n",
       " u'RAM:': u'RAM: 16GB DDR4 (2133 MHz) ',\n",
       " u'Tarjetas de video:': [u'Intel HD Graphics 530 (Integrada)',\n",
       "  u'NVIDIA GeForce GTX 960M (4GB)']}"
      ]
     },
     "execution_count": 19,
     "metadata": {},
     "output_type": "execute_result"
    }
   ],
   "source": [
    "propsDict"
   ]
  },
  {
   "cell_type": "markdown",
   "metadata": {},
   "source": [
    "Ahora quiero el link a la página que tiene todos lo demás datos del producto actual"
   ]
  },
  {
   "cell_type": "code",
   "execution_count": 20,
   "metadata": {
    "collapsed": false
   },
   "outputs": [
    {
     "name": "stdout",
     "output_type": "stream",
     "text": [
      "http://www.solotodo.com/products/26672-hp-omen-15-ax002la-v7r99la/\n"
     ]
    }
   ],
   "source": [
    "productLink = 'http://www.solotodo.com'+entrada.find('a',{'class':'link'}).attrs['href']\n",
    "print productLink"
   ]
  },
  {
   "cell_type": "markdown",
   "metadata": {},
   "source": [
    "Recopilando en una sola función:"
   ]
  },
  {
   "cell_type": "code",
   "execution_count": 21,
   "metadata": {
    "collapsed": true
   },
   "outputs": [],
   "source": [
    "%reset -f"
   ]
  },
  {
   "cell_type": "markdown",
   "metadata": {},
   "source": [
    "Detalles de productos son opcionales en esta parte\n",
    "\n",
    "** <a href=\"#getProductsURL\">NOTA: ESTA FUNCIÓN ES MODIFICADA DESPUÉS PARA MANEJAR VARIAS PÁGINAS DE RESULTADOS </a>**"
   ]
  },
  {
   "cell_type": "code",
   "execution_count": 22,
   "metadata": {
    "collapsed": false
   },
   "outputs": [],
   "source": [
    "from bs4 import BeautifulSoup\n",
    "import requests\n",
    "def getProductsURL(URL,getDetails = False):\n",
    "    \"\"\"\n",
    "        Recibe la direccion de una busqueda de solotodo\n",
    "        y retorna un diccionario con los productos encontrados.\n",
    "        Input:\n",
    "            URL: direccion de la consulta en solotodo\n",
    "            getDetails: T/F si se desea sacar los detalles directamente\n",
    "                de la pagina de busqueda, o si no.\n",
    "        Output\n",
    "            Diccionario de la forma\n",
    "            products[\"product name\"] = {\n",
    "                # link a la pagina del producto\n",
    "                link: \"www.solotodo.com/... \", \n",
    "                \n",
    "                # string con el precio registrado en solotodo\n",
    "                price: \"$999.999\", \n",
    "                \n",
    "                #diccionario con los detalles de la pagina de busqueda\n",
    "                #si es que getDetails = True. False por defecto\n",
    "                details: {...} \n",
    "            }\n",
    "        \n",
    "        \n",
    "    \"\"\"\n",
    "    # Realizamos la peticion a la web\n",
    "    req = requests.get(URL)\n",
    "    # Comprobamos que la peticion nos devuelve un Status Code = 200\n",
    "    statusCode = req.status_code\n",
    "    if statusCode==200:\n",
    "        # Pasamos el contenido HTML de la web a un objeto BeautifulSoup()\n",
    "        html = BeautifulSoup(req.text)\n",
    "        # Obtenemos todos los divs donde estan las entradas\n",
    "        entradas = html.find_all('div',{'class':'search_result'})\n",
    "                \n",
    "        products = {}\n",
    "        \n",
    "        for i,entrada in enumerate(entradas):\n",
    "            if getDetails:\n",
    "                # Obtener el \"ul\" con los detalles de la entrada actual\n",
    "                detalles = entrada.find('ul',{'class':'with_margin_top list-without-decoration'})\n",
    "\n",
    "                #sacar la lista de propiedades \n",
    "                props = detalles.find_all('li',recursive=False)\n",
    "                propsDict = {}\n",
    "                for i,p in enumerate(props):\n",
    "                    header = p.contents[0].getText()\n",
    "                    if len(p.findAll('li'))>0:\n",
    "                        props[i] = [pi.getText() for pi in p.findAll('li')]\n",
    "                    else:\n",
    "                        props[i] = p.getText()\n",
    "                    propsDict[header]= props[i]            \n",
    "            productPrice = entrada.find('a',{'class':'search-result-price'}).getText()\n",
    "            productLink = entrada.find('a',{'class':'link'}).attrs['href']\n",
    "            productLink = 'http://www.solotodo.com'+productLink\n",
    "            productTitle = entrada.find('h4',{'class':'search-result-title'}).getText()\n",
    "            products[productTitle] = {\n",
    "                'link': productLink,\n",
    "                'price': productPrice\n",
    "            }\n",
    "            if getDetails:\n",
    "                products[productTitle]['details'] = propsDict\n",
    "        return products\n",
    "    else:\n",
    "        return"
   ]
  },
  {
   "cell_type": "markdown",
   "metadata": {},
   "source": [
    "Volver a probar el mismo ejemplo"
   ]
  },
  {
   "cell_type": "code",
   "execution_count": 23,
   "metadata": {
    "collapsed": true
   },
   "outputs": [],
   "source": [
    "qURL = \"http://www.solotodo.com/notebooks/?\"+\\\n",
    "    \"min_price=99990&max_price=1001329&keywords=&\"+\\\n",
    "    \"notebook_brand=&notebook_line=&processor_brand=&\"+\\\n",
    "    \"processor_line_family=&processor=&ram_quantity=103199&\"+\\\n",
    "    \"ram_type=&storage_capacity=&storage_type=&storage_rpm=&\"+\\\n",
    "    \"min_screen_size=103114&max_screen_size=103150&screen_resolution=&\"+\\\n",
    "    \"screen_touch=&video_card_type=&video_card_brand=&video_card_line=103900&\"+\\\n",
    "    \"video_card=110425&operating_system=&optical_drive=&advanced_controls=1&ordering=\""
   ]
  },
  {
   "cell_type": "code",
   "execution_count": 24,
   "metadata": {
    "collapsed": false
   },
   "outputs": [],
   "source": [
    "results = getProductsURL(qURL)"
   ]
  },
  {
   "cell_type": "code",
   "execution_count": 25,
   "metadata": {
    "collapsed": false
   },
   "outputs": [
    {
     "data": {
      "text/plain": [
       "[u'   ASUS N552VW-FI100T   ',\n",
       " u'   HP Omen 15-AX002LA (V7R99LA)   ',\n",
       " u'   Lenovo IdeaPad Y700-15 (I7-6700HQ / 12GB / 1TB / GTX 960M)   ',\n",
       " u'   ASUS N551JW-CN357T (90NB08B1-M04750)   ',\n",
       " u'   ASUS ROG G552VW-CN452T   ']"
      ]
     },
     "execution_count": 25,
     "metadata": {},
     "output_type": "execute_result"
    }
   ],
   "source": [
    "results.keys()"
   ]
  },
  {
   "cell_type": "code",
   "execution_count": 26,
   "metadata": {
    "collapsed": false
   },
   "outputs": [
    {
     "data": {
      "text/plain": [
       "['price', 'link']"
      ]
     },
     "execution_count": 26,
     "metadata": {},
     "output_type": "execute_result"
    }
   ],
   "source": [
    "results[results.keys()[0]].keys()"
   ]
  },
  {
   "cell_type": "code",
   "execution_count": 27,
   "metadata": {
    "collapsed": false
   },
   "outputs": [
    {
     "data": {
      "text/plain": [
       "{u'   ASUS N551JW-CN357T (90NB08B1-M04750)   ': {'link': 'http://www.solotodo.com/products/22069-asus-n551jw-cn357t-90nb08b1-m04750/',\n",
       "  'price': u' $816.816 '},\n",
       " u'   ASUS N552VW-FI100T   ': {'link': 'http://www.solotodo.com/products/24011-asus-n552vw-fi100t/',\n",
       "  'price': u' $949.990 '},\n",
       " u'   ASUS ROG G552VW-CN452T   ': {'link': 'http://www.solotodo.com/products/24549-asus-rog-g552vw-cn452t/',\n",
       "  'price': u' $999.990 '},\n",
       " u'   HP Omen 15-AX002LA (V7R99LA)   ': {'link': 'http://www.solotodo.com/products/26672-hp-omen-15-ax002la-v7r99la/',\n",
       "  'price': u' $929.250 '},\n",
       " u'   Lenovo IdeaPad Y700-15 (I7-6700HQ / 12GB / 1TB / GTX 960M)   ': {'link': 'http://www.solotodo.com/products/25100-lenovo-ideapad-y700-15-i7-6700hq-12gb-1tb-gtx-960m/',\n",
       "  'price': u' $949.990 '}}"
      ]
     },
     "execution_count": 27,
     "metadata": {},
     "output_type": "execute_result"
    }
   ],
   "source": [
    "results"
   ]
  },
  {
   "cell_type": "markdown",
   "metadata": {},
   "source": [
    "# Revisar más páginas si corresponde"
   ]
  },
  {
   "cell_type": "markdown",
   "metadata": {},
   "source": [
    "Por ejemplo"
   ]
  },
  {
   "cell_type": "markdown",
   "metadata": {},
   "source": [
    "Quiero detectar el boton \"ultimo\""
   ]
  },
  {
   "cell_type": "markdown",
   "metadata": {},
   "source": [
    "```html\n",
    "<nav class=\"search_pagination\">\n",
    "    <ul class=\"pagination\">\n",
    "        <li class=\"active\"><a href=\"#\">1</a></li>\n",
    "        <li><a href=\"/notebooks/?advanced_controls=1&amp;keywords=&amp;ordering=&amp;ram_quantity=103199&amp;min_screen_size=103114&amp;max_screen_size=103150&amp;video_card_line=103900&amp;screen_touch=&amp;min_price=99990&amp;max_price=1001329&amp;page_number=2\">2</a></li>\n",
    "        <li><a href=\"/notebooks/?advanced_controls=1&amp;keywords=&amp;ordering=&amp;ram_quantity=103199&amp;min_screen_size=103114&amp;max_screen_size=103150&amp;video_card_line=103900&amp;screen_touch=&amp;min_price=99990&amp;max_price=1001329&amp;page_number=3\">3</a></li>\n",
    "        <li><a href=\"/notebooks/?advanced_controls=1&amp;keywords=&amp;ordering=&amp;ram_quantity=103199&amp;min_screen_size=103114&amp;max_screen_size=103150&amp;video_card_line=103900&amp;screen_touch=&amp;min_price=99990&amp;max_price=1001329&amp;page_number=2\">Siguiente</a></li>\n",
    "        <li><a href=\"/notebooks/?advanced_controls=1&amp;keywords=&amp;ordering=&amp;ram_quantity=103199&amp;min_screen_size=103114&amp;max_screen_size=103150&amp;video_card_line=103900&amp;screen_touch=&amp;min_price=99990&amp;max_price=1001329&amp;page_number=3\">Última</a></li>\n",
    "    </ul>\n",
    "</nav>\n",
    "```"
   ]
  },
  {
   "cell_type": "code",
   "execution_count": 28,
   "metadata": {
    "collapsed": true
   },
   "outputs": [],
   "source": [
    "url = \"http://www.solotodo.com/notebooks/?min_price=99990&max_price=1001329&keywords=&notebook_brand=&notebook_line=&processor_brand=&processor_line_family=&processor=&ram_quantity=103199&ram_type=&storage_capacity=&storage_type=&storage_rpm=&min_screen_size=103114&max_screen_size=103150&screen_resolution=&screen_touch=&video_card_type=&video_card_brand=&video_card_line=103900&video_card=&operating_system=&optical_drive=&advanced_controls=1&ordering=\""
   ]
  },
  {
   "cell_type": "code",
   "execution_count": 29,
   "metadata": {
    "collapsed": true
   },
   "outputs": [],
   "source": [
    "from bs4 import BeautifulSoup\n",
    "import requests"
   ]
  },
  {
   "cell_type": "code",
   "execution_count": 30,
   "metadata": {
    "collapsed": false
   },
   "outputs": [
    {
     "name": "stdout",
     "output_type": "stream",
     "text": [
      "200\n"
     ]
    }
   ],
   "source": [
    "# Realizamos la peticion a la web\n",
    "req = requests.get(url)\n",
    "# Comprobamos que la peticion nos devuelve un Status Code = 200\n",
    "statusCode = req.status_code\n",
    "print statusCode\n",
    "\n",
    "# Pasamos el contenido HTML de la web a un objeto BeautifulSoup()\n",
    "html = BeautifulSoup(req.text)"
   ]
  },
  {
   "cell_type": "markdown",
   "metadata": {},
   "source": [
    "Obtener pagination y revisar si existe"
   ]
  },
  {
   "cell_type": "code",
   "execution_count": 31,
   "metadata": {
    "collapsed": false
   },
   "outputs": [],
   "source": [
    "# Obtener el ul pagination\n",
    "pagination = html.find('ul',{'class':'pagination'})"
   ]
  },
  {
   "cell_type": "code",
   "execution_count": 32,
   "metadata": {
    "collapsed": false
   },
   "outputs": [
    {
     "data": {
      "text/plain": [
       "False"
      ]
     },
     "execution_count": 32,
     "metadata": {},
     "output_type": "execute_result"
    }
   ],
   "source": [
    "pagination == None"
   ]
  },
  {
   "cell_type": "markdown",
   "metadata": {},
   "source": [
    "Si existe entonces saco el número de paginas"
   ]
  },
  {
   "cell_type": "code",
   "execution_count": 33,
   "metadata": {
    "collapsed": false
   },
   "outputs": [
    {
     "data": {
      "text/plain": [
       "<ul class=\"pagination\"><li class=\"active\"><a href=\"#\">1</a></li><li><a href=\"/notebooks/?advanced_controls=1&amp;keywords=&amp;ordering=&amp;ram_quantity=103199&amp;min_screen_size=103114&amp;max_screen_size=103150&amp;video_card_line=103900&amp;screen_touch=&amp;min_price=99990&amp;max_price=1001329&amp;page_number=2\">2</a></li><li><a href=\"/notebooks/?advanced_controls=1&amp;keywords=&amp;ordering=&amp;ram_quantity=103199&amp;min_screen_size=103114&amp;max_screen_size=103150&amp;video_card_line=103900&amp;screen_touch=&amp;min_price=99990&amp;max_price=1001329&amp;page_number=3\">3</a></li><li><a href=\"/notebooks/?advanced_controls=1&amp;keywords=&amp;ordering=&amp;ram_quantity=103199&amp;min_screen_size=103114&amp;max_screen_size=103150&amp;video_card_line=103900&amp;screen_touch=&amp;min_price=99990&amp;max_price=1001329&amp;page_number=2\">Siguiente</a></li><li><a href=\"/notebooks/?advanced_controls=1&amp;keywords=&amp;ordering=&amp;ram_quantity=103199&amp;min_screen_size=103114&amp;max_screen_size=103150&amp;video_card_line=103900&amp;screen_touch=&amp;min_price=99990&amp;max_price=1001329&amp;page_number=3\">\\xdaltima</a></li></ul>"
      ]
     },
     "execution_count": 33,
     "metadata": {},
     "output_type": "execute_result"
    }
   ],
   "source": [
    "pagination"
   ]
  },
  {
   "cell_type": "code",
   "execution_count": 34,
   "metadata": {
    "collapsed": false
   },
   "outputs": [
    {
     "name": "stdout",
     "output_type": "stream",
     "text": [
      "3\n"
     ]
    }
   ],
   "source": [
    "linkLast = pagination.contents[-1] \\\n",
    "            .find(\"a\") \\\n",
    "            .attrs[\"href\"]\n",
    "root,branch = linkLast.rsplit(\"page_number=\")\n",
    "npages = int(branch)\n",
    "print npages"
   ]
  },
  {
   "cell_type": "markdown",
   "metadata": {},
   "source": [
    "Generar una lista de direcciones"
   ]
  },
  {
   "cell_type": "code",
   "execution_count": 35,
   "metadata": {
    "collapsed": false
   },
   "outputs": [
    {
     "name": "stdout",
     "output_type": "stream",
     "text": [
      "\n",
      "http://www.solotodo.com/notebooks/?advanced_controls=1&keywords=&ordering=&ram_quantity=103199&min_screen_size=103114&max_screen_size=103150&video_card_line=103900&screen_touch=&min_price=99990&max_price=1001329&page_number=1\n",
      "\n",
      "http://www.solotodo.com/notebooks/?advanced_controls=1&keywords=&ordering=&ram_quantity=103199&min_screen_size=103114&max_screen_size=103150&video_card_line=103900&screen_touch=&min_price=99990&max_price=1001329&page_number=2\n",
      "\n",
      "http://www.solotodo.com/notebooks/?advanced_controls=1&keywords=&ordering=&ram_quantity=103199&min_screen_size=103114&max_screen_size=103150&video_card_line=103900&screen_touch=&min_price=99990&max_price=1001329&page_number=3\n"
     ]
    }
   ],
   "source": [
    "urlList = [\"http://www.solotodo.com%spage_number=%i\"%(root,i+1) for i in range(npages)]\n",
    "for u in urlList:\n",
    "    print '\\n',u"
   ]
  },
  {
   "cell_type": "markdown",
   "metadata": {},
   "source": [
    "Creo una rutina que retorna la lista de paginas de resultados:\n",
    "<a id=\"getURLList\"></a>"
   ]
  },
  {
   "cell_type": "code",
   "execution_count": 36,
   "metadata": {
    "collapsed": false
   },
   "outputs": [],
   "source": [
    "def getURLList(url):\n",
    "    \"\"\"\n",
    "        Recibe la url y retorna las url con todas las paginas\n",
    "        de los resultados de busqueda\n",
    "    \"\"\"\n",
    "    \n",
    "    # Realizamos la peticion a la web\n",
    "    req = requests.get(url)\n",
    "    # Comprobamos que la peticion nos devuelve un Status Code = 200\n",
    "    statusCode = req.status_code\n",
    "\n",
    "    # Pasamos el contenido HTML de la web a un objeto BeautifulSoup()\n",
    "    html = BeautifulSoup(req.text)\n",
    "\n",
    "    # Obtener el ul pagination\n",
    "    pagination = html.find('ul',{'class':'pagination'})\n",
    "    \n",
    "    #si no hay pagination, retorna la url original:\n",
    "    if pagination == None:\n",
    "        urlList = [url]\n",
    "    else:        \n",
    "        # Leer cuantas paginas hay en total\n",
    "        linkLast = pagination.contents[-1] \\\n",
    "                .find(\"a\") \\\n",
    "                .attrs[\"href\"]\n",
    "        root,branch = linkLast.rsplit(\"page_number=\")\n",
    "        npages = int(branch)\n",
    "\n",
    "        # generar la lista de urls\n",
    "        urlList = [\"http://www.solotodo.com%spage_number=%i\"%(root,i+1) for i in range(npages)]\n",
    "    return urlList"
   ]
  },
  {
   "cell_type": "code",
   "execution_count": 37,
   "metadata": {
    "collapsed": false
   },
   "outputs": [],
   "source": [
    "urlList = getURLList(url)"
   ]
  },
  {
   "cell_type": "markdown",
   "metadata": {},
   "source": [
    "Modificar la rutina getProductsURL\n",
    "<a id=\"getProductsURL\"> </a>"
   ]
  },
  {
   "cell_type": "code",
   "execution_count": 38,
   "metadata": {
    "collapsed": false
   },
   "outputs": [],
   "source": [
    "from bs4 import BeautifulSoup\n",
    "import requests\n",
    "def getProductsURL(URL,getDetails = False):\n",
    "    \"\"\"\n",
    "        Recibe la direccion de una busqueda de solotodo\n",
    "        y retorna un diccionario con los productos encontrados,\n",
    "        incluso si estos son mostrados en varias páginas en solotodo.\n",
    "        Input:\n",
    "            URL: string con la direccion del resultado de la \n",
    "                 consulta en solotodo.\n",
    "            getDetails: T/F si se desea sacar los detalles directamente\n",
    "                de la pagina de busqueda, o si no.\n",
    "        Output\n",
    "            Diccionario de la forma\n",
    "            products[\"product name\"] = {\n",
    "                # link a la pagina del producto\n",
    "                link: \"www.solotodo.com/... \", \n",
    "                \n",
    "                # string con el precio registrado en solotodo\n",
    "                price: \"$999.999\", \n",
    "                \n",
    "                #diccionario con los detalles de la pagina de busqueda\n",
    "                #si es que getDetails = True. False por defecto\n",
    "                details: {...} \n",
    "            }\n",
    "        \n",
    "        \n",
    "    \"\"\"\n",
    "    #inicializamos el output\n",
    "    products = {}\n",
    "    \n",
    "    URLList = getURLList(URL)\n",
    "    \n",
    "    for ipage, thisURL in enumerate(URLList):\n",
    "        print u'Revisando página %i de %i: \\n\\t%s'%(ipage+1,len(URLList),thisURL)\n",
    "        \n",
    "        # Realizamos la peticion a la web\n",
    "        req = requests.get(thisURL)\n",
    "        # Comprobamos que la peticion nos devuelve un Status Code = 200\n",
    "        statusCode = req.status_code\n",
    "        if statusCode==200:\n",
    "            # Pasamos el contenido HTML de la web a un objeto BeautifulSoup()\n",
    "            html = BeautifulSoup(req.text)\n",
    "\n",
    "            # Obtenemos todos los divs donde estan las entradas\n",
    "            entradas = html.find_all('div',{'class':'search_result'})\n",
    "\n",
    "            for i,entrada in enumerate(entradas):\n",
    "                if getDetails:\n",
    "                    # Obtener el \"ul\" con los detalles de la entrada actual\n",
    "                    detalles = entrada.find('ul',{'class':'with_margin_top list-without-decoration'})\n",
    "\n",
    "                    #sacar la lista de propiedades \n",
    "                    props = detalles.find_all('li',recursive=False)\n",
    "                    propsDict = {}\n",
    "                    for i,p in enumerate(props):\n",
    "                        header = p.contents[0].getText()\n",
    "                        if len(p.findAll('li'))>0:\n",
    "                            props[i] = [pi.getText() for pi in p.findAll('li')]\n",
    "                        else:\n",
    "                            props[i] = p.getText()\n",
    "                        propsDict[header]= props[i]            \n",
    "                productPrice = entrada.find('a',{'class':'search-result-price'}).getText()\n",
    "                productLink = entrada.find('a',{'class':'link'}).attrs['href']\n",
    "                productLink = 'http://www.solotodo.com'+productLink\n",
    "                productTitle = entrada.find('h4',{'class':'search-result-title'}).getText()\n",
    "                products[productTitle] = {\n",
    "                    'link': productLink,\n",
    "                    'price': productPrice\n",
    "                }\n",
    "                if getDetails:\n",
    "                    products[productTitle]['details'] = propsDict\n",
    "    return products"
   ]
  },
  {
   "cell_type": "code",
   "execution_count": 39,
   "metadata": {
    "collapsed": false
   },
   "outputs": [
    {
     "name": "stdout",
     "output_type": "stream",
     "text": [
      "Revisando página 1 de 3: \n",
      "\thttp://www.solotodo.com/notebooks/?advanced_controls=1&keywords=&ordering=&ram_quantity=103199&min_screen_size=103114&max_screen_size=103150&video_card_line=103900&screen_touch=&min_price=99990&max_price=1001329&page_number=1\n",
      "Revisando página 2 de 3: \n",
      "\thttp://www.solotodo.com/notebooks/?advanced_controls=1&keywords=&ordering=&ram_quantity=103199&min_screen_size=103114&max_screen_size=103150&video_card_line=103900&screen_touch=&min_price=99990&max_price=1001329&page_number=2\n",
      "Revisando página 3 de 3: \n",
      "\thttp://www.solotodo.com/notebooks/?advanced_controls=1&keywords=&ordering=&ram_quantity=103199&min_screen_size=103114&max_screen_size=103150&video_card_line=103900&screen_touch=&min_price=99990&max_price=1001329&page_number=3\n"
     ]
    }
   ],
   "source": [
    "products = getProductsURL(url,getDetails=True)"
   ]
  },
  {
   "cell_type": "markdown",
   "metadata": {},
   "source": [
    "# Obtener detalles de un producto"
   ]
  },
  {
   "cell_type": "markdown",
   "metadata": {},
   "source": [
    "Me interesan las entradas de esta forma\n",
    "\n",
    "```HTML\n",
    "<div class=\"col-lg-6 col-md-5 col-sm-5 col-xs-12\">\n",
    "    <div class=\"row\">\n",
    "        <div class=\"col-xs-12\">\n",
    "            <h4>Características</h4>\n",
    "            <ul class=\"with_margin_top list-without-decoration-2\">\n",
    "                <li><strong>Procesador:</strong> <a href=\"/notebooks/processors/?processor=126615\">Intel Core i7 6700HQ (2600 MHz - 3500 MHz) </a></li>\n",
    "                <li><strong>RAM:</strong> 12GB DDR4L (2133 MHz) </li>\n",
    "                <li><strong>Pantalla:</strong> LED 15.6&quot; (3840x2160) </li>\n",
    "                <li><strong>Bateria:</strong> 4 celdas (3200 mAh | 11000 mV | 48000 mWh) </li>\n",
    "                <li><strong>Almacenamiento:</strong> HDD 1TB (5400rpm) </li>\n",
    "                <li><strong>Tarjetas de video:</strong>\n",
    "                    <ul>\n",
    "                        <li><a href=\"/notebooks/video_cards/?video_card=108403\">Intel HD Graphics 530 (Integrada)</a></li>\n",
    "                        <li><a href=\"/notebooks/video_cards/?video_card=110425\">NVIDIA GeForce GTX 960M (4GB)</a></li>\n",
    "                    </ul>\n",
    "                </li>\n",
    "            </ul>\n",
    "            <h4>Especificaciones secundarias</h4>\n",
    "            <ul class=\"with_margin_top list-without-decoration-2\">\n",
    "                <li><strong>Peso:</strong> 2320 g.</li>\n",
    "                <li><strong>Dimensiones:</strong> 383 x 260 x 29 mm.</li>\n",
    "                <li><strong>Sistema Operativo:</strong> Microsoft Windows 10 Home</li>\n",
    "                <li><strong>Unidad óptica:</strong> DVD±RW / Blu-ray</li>\n",
    "                <li><strong>Puertos de video:</strong>\n",
    "                    <ul>\n",
    "                        <li> HDMI</li>\n",
    "                        <li> Mini DisplayPort</li>\n",
    "                    </ul>\n",
    "                </li>\n",
    "                </li>\n",
    "            </ul>\n",
    "            <h4>Accesorios</h4>\n",
    "            <ul class=\"with_margin_top list-without-decoration-2\">\n",
    "                <li><strong>WiFi:</strong> Genérica (802.11 b/g/n)</li>\n",
    "                <li><strong>Puertos USB:</strong> 3</li>\n",
    "                <li><strong>Webcam:</strong> 1,0 MP</li>\n",
    "                <li><strong>LAN:</strong> 10 / 100 / 1000 Mbps</li>\n",
    "                <li><strong>Adaptador de energía:</strong>120W.</li>\n",
    "                <li><strong>Lector de tarjetas:</strong> 2-en-1</li>\n",
    "                <li><strong>¿RAM de doble canal?:</strong> No</li>\n",
    "                <li><strong>¿Bluetooth?:</strong> Sí</li>\n",
    "                <li><strong>¿Lector de huellas digitales?:</strong> No</li>\n",
    "            </ul>\n",
    "\n",
    "\n",
    "            <h4>Rating según sus dueños</h4>\n",
    "\n",
    "            <div id=\"product_rating\" class=\"big_star\" data-value=\"5.0\" data-rating-url=\"/products/24011/ratings/\"></div>\n",
    "\n",
    "        </div>\n",
    "    </div>\n",
    "</div>\n",
    "</div>\n",
    "\n",
    "```"
   ]
  },
  {
   "cell_type": "markdown",
   "metadata": {},
   "source": [
    "Elijo un producto particular y el link encontrado en la parte anterior"
   ]
  },
  {
   "cell_type": "code",
   "execution_count": 40,
   "metadata": {
    "collapsed": false
   },
   "outputs": [
    {
     "name": "stdout",
     "output_type": "stream",
     "text": [
      "   ASUS N552VW-FI100T   \n",
      "http://www.solotodo.com/products/24011-asus-n552vw-fi100t/\n"
     ]
    }
   ],
   "source": [
    "k = results.keys()\n",
    "product = k[0]\n",
    "link = results[k[0]]['link']\n",
    "print product\n",
    "print link"
   ]
  },
  {
   "cell_type": "markdown",
   "metadata": {},
   "source": [
    "Voy a extraer los tags ul con esta clase:\n",
    "\n",
    "```html\n",
    "<ul class=\"with_margin_top list-without-decoration-2\">\n",
    "```"
   ]
  },
  {
   "cell_type": "code",
   "execution_count": 41,
   "metadata": {
    "collapsed": true
   },
   "outputs": [],
   "source": [
    "from bs4 import BeautifulSoup\n",
    "import requests\n",
    "req = requests.get(link)\n",
    "statusCode = req.status_code\n",
    "html = BeautifulSoup(req.text)"
   ]
  },
  {
   "cell_type": "code",
   "execution_count": 42,
   "metadata": {
    "collapsed": true
   },
   "outputs": [],
   "source": [
    "entradas = html.find_all('ul',{'class':'with_margin_top list-without-decoration-2'})"
   ]
  },
  {
   "cell_type": "markdown",
   "metadata": {},
   "source": [
    "Verifico que hayan 3 entradas"
   ]
  },
  {
   "cell_type": "code",
   "execution_count": 43,
   "metadata": {
    "collapsed": false
   },
   "outputs": [
    {
     "data": {
      "text/plain": [
       "3"
      ]
     },
     "execution_count": 43,
     "metadata": {},
     "output_type": "execute_result"
    }
   ],
   "source": [
    "len(entradas)"
   ]
  },
  {
   "cell_type": "markdown",
   "metadata": {},
   "source": [
    "Sacar la lista de propiedades"
   ]
  },
  {
   "cell_type": "code",
   "execution_count": 44,
   "metadata": {
    "code_folding": [],
    "collapsed": false
   },
   "outputs": [
    {
     "name": "stdout",
     "output_type": "stream",
     "text": [
      "Procesador: Intel Core i7 6700HQ (2600 MHz - 3500 MHz) \n",
      "RAM:  12GB DDR4L (2133 MHz) \n",
      "Pantalla:  LED 15.6\" (3840x2160) \n",
      "Bateria:  4 celdas (3200 mAh | 11000 mV | 48000 mWh) \n",
      "Almacenamiento:  HDD 1TB (5400rpm) \n",
      "Tarjetas de video: [u'Intel HD Graphics 530 (Integrada)', u'NVIDIA GeForce GTX 960M (4GB)']\n",
      "Peso:  2320 g.\n",
      "Dimensiones:  383 x 260 x 29 mm.\n",
      "Sistema Operativo:  Microsoft Windows 10 Home\n",
      "Unidad óptica:  DVD±RW / Blu-ray\n",
      "Puertos de video: [u' HDMI', u' Mini DisplayPort']\n",
      "WiFi:  Genérica (802.11 b/g/n)\n",
      "Puertos USB:  3\n",
      "Webcam:  1,0 MP\n",
      "LAN:  10 / 100 / 1000 Mbps\n",
      "Adaptador de energía: 120W.\n",
      "Lector de tarjetas:  2-en-1\n",
      "¿RAM de doble canal?:  No\n",
      "¿Bluetooth?:  Sí\n",
      "¿Lector de huellas digitales?:  No\n"
     ]
    }
   ],
   "source": [
    "propsDict = {}\n",
    "for e in entradas:\n",
    "    props = e.find_all('li',recursive=False)\n",
    "\n",
    "    for i,p in enumerate(props):\n",
    "        #nombre del campo que se esta leyendo\n",
    "        header = p.contents[0].getText()\n",
    "        \n",
    "        #si el campo tiene \"li\", transformar en lista\n",
    "        if len(p.findAll('li'))>0:\n",
    "            props[i] = [pi.getText() for pi in p.findAll('li')]\n",
    "        \n",
    "        #si el campo es un anchor, sacar solo el texto, no el link\n",
    "        elif len(p.findAll('a'))>0:\n",
    "            props[i] = p.contents[-1].getText()\n",
    "            \n",
    "        #sino, solo sacar el texto, que deberia ser el ultimo contenido\n",
    "        else:\n",
    "            props[i] = p.contents[-1]\n",
    "        propsDict[header]= props[i]   \n",
    "        print header,propsDict[header]"
   ]
  },
  {
   "cell_type": "markdown",
   "metadata": {},
   "source": [
    "Modularizar en una función"
   ]
  },
  {
   "cell_type": "code",
   "execution_count": 45,
   "metadata": {
    "collapsed": false
   },
   "outputs": [
    {
     "data": {
      "text/plain": [
       "200"
      ]
     },
     "execution_count": 45,
     "metadata": {},
     "output_type": "execute_result"
    }
   ],
   "source": [
    "statusCode"
   ]
  },
  {
   "cell_type": "markdown",
   "metadata": {},
   "source": [
    "<a id=\"getDetails\"></a>"
   ]
  },
  {
   "cell_type": "code",
   "execution_count": 46,
   "metadata": {
    "collapsed": true
   },
   "outputs": [],
   "source": [
    "from bs4 import BeautifulSoup\n",
    "import requests\n",
    "\n",
    "def getDetails(url):\n",
    "    req = requests.get(link)\n",
    "    statusCode = req.status_code\n",
    "    if statusCode==200:\n",
    "        html = BeautifulSoup(req.text)    \n",
    "        \n",
    "    entradas = html.find_all('ul',{'class':'with_margin_top list-without-decoration-2'})\n",
    "    \n",
    "    propsDict = {}\n",
    "    for e in entradas:\n",
    "        props = e.find_all('li',recursive=False)\n",
    "\n",
    "        for i,p in enumerate(props):\n",
    "            #nombre del campo que se esta leyendo\n",
    "            header = p.contents[0].getText()\n",
    "\n",
    "            #si el campo tiene \"li\", transformar en lista\n",
    "            if len(p.findAll('li'))>0:\n",
    "                props[i] = [pi.getText() for pi in p.findAll('li')]\n",
    "\n",
    "            #si el campo es un anchor, sacar solo el texto, no el link\n",
    "            elif len(p.findAll('a'))>0:\n",
    "                props[i] = p.contents[-1].getText()\n",
    "\n",
    "            #sino, solo sacar el texto, que deberia ser el ultimo contenido\n",
    "            else:\n",
    "                props[i] = p.contents[-1]\n",
    "            propsDict[header]= props[i]   \n",
    "    return propsDict"
   ]
  },
  {
   "cell_type": "code",
   "execution_count": 47,
   "metadata": {
    "collapsed": true
   },
   "outputs": [],
   "source": [
    "r = getDetails(link)"
   ]
  },
  {
   "cell_type": "code",
   "execution_count": 48,
   "metadata": {
    "collapsed": false
   },
   "outputs": [
    {
     "name": "stdout",
     "output_type": "stream",
     "text": [
      "Pantalla:\n",
      "Procesador:\n",
      "Almacenamiento:\n",
      "RAM:\n",
      "Webcam:\n",
      "¿Bluetooth?:\n",
      "Puertos USB:\n",
      "¿Lector de huellas digitales?:\n",
      "Sistema Operativo:\n",
      "¿RAM de doble canal?:\n",
      "Unidad óptica:\n",
      "WiFi:\n",
      "Lector de tarjetas:\n",
      "Dimensiones:\n",
      "Tarjetas de video:\n",
      "Adaptador de energía:\n",
      "Bateria:\n",
      "LAN:\n",
      "Peso:\n",
      "Puertos de video:\n"
     ]
    }
   ],
   "source": [
    "for r in r.keys(): print r"
   ]
  },
  {
   "cell_type": "markdown",
   "metadata": {},
   "source": [
    "# Considerando todos los productos encontrados"
   ]
  },
  {
   "cell_type": "code",
   "execution_count": 49,
   "metadata": {
    "collapsed": false
   },
   "outputs": [
    {
     "name": "stdout",
     "output_type": "stream",
     "text": [
      "Revisando página 1 de 1: \n",
      "\thttp://www.solotodo.com/notebooks/?min_price=99990&max_price=1001329&keywords=&notebook_brand=&notebook_line=&processor_brand=&processor_line_family=&processor=&ram_quantity=103199&ram_type=&storage_capacity=&storage_type=&storage_rpm=&min_screen_size=103114&max_screen_size=103150&screen_resolution=&screen_touch=&video_card_type=&video_card_brand=&video_card_line=103900&video_card=110425&operating_system=&optical_drive=&advanced_controls=1&ordering=\n",
      "[u'   ASUS N552VW-FI100T   ', u'   HP Omen 15-AX002LA (V7R99LA)   ', u'   Lenovo IdeaPad Y700-15 (I7-6700HQ / 12GB / 1TB / GTX 960M)   ', u'   ASUS N551JW-CN357T (90NB08B1-M04750)   ', u'   ASUS ROG G552VW-CN452T   ']\n",
      "   ASUS N552VW-FI100T   \n",
      "http://www.solotodo.com/products/24011-asus-n552vw-fi100t/\n"
     ]
    }
   ],
   "source": [
    "results = getProductsURL(qURL)\n",
    "k = results.keys()\n",
    "product = k[0]\n",
    "link = results[k[0]]['link']\n",
    "print k\n",
    "print product\n",
    "print link"
   ]
  },
  {
   "cell_type": "code",
   "execution_count": 50,
   "metadata": {
    "collapsed": true
   },
   "outputs": [],
   "source": [
    "r = getDetails(link)"
   ]
  },
  {
   "cell_type": "code",
   "execution_count": 51,
   "metadata": {
    "collapsed": true
   },
   "outputs": [],
   "source": [
    "for k in results.keys():\n",
    "    link = results[k]['link']\n",
    "    details = getDetails(link)\n",
    "    results[k]['details'] = details"
   ]
  },
  {
   "cell_type": "code",
   "execution_count": 52,
   "metadata": {
    "collapsed": false,
    "scrolled": true
   },
   "outputs": [
    {
     "name": "stdout",
     "output_type": "stream",
     "text": [
      "   ASUS N552VW-FI100T   \n",
      "\t['price', 'link', 'details']\n",
      "\t details\n",
      "\t \t                      Pantalla: \t  LED 15.6\" (3840x2160) \n",
      "\t \t                    Procesador: \t Intel Core i7 6700HQ (2600 MHz - 3500 MHz) \n",
      "\t \t                Almacenamiento: \t   HDD 1TB (5400rpm) \n",
      "\t \t                           RAM: \t  12GB DDR4L (2133 MHz) \n",
      "\t \t                        Webcam: \t               1,0 MP\n",
      "\t \t                   ¿Bluetooth?: \t                   Sí\n",
      "\t \t                   Puertos USB: \t                    3\n",
      "\t \t ¿Lector de huellas digitales?: \t                   No\n",
      "\t \t             Sistema Operativo: \t  Microsoft Windows 10 Home\n",
      "\t \t          ¿RAM de doble canal?: \t                   No\n",
      "\t \t                 Unidad óptica: \t     DVD±RW / Blu-ray\n",
      "\t \t                          WiFi: \t  Genérica (802.11 b/g/n)\n",
      "\t \t            Lector de tarjetas: \t               2-en-1\n",
      "\t \t                   Dimensiones: \t   383 x 260 x 29 mm.\n",
      "\t \t             Tarjetas de video: \t [u'Intel HD Graphics 530 (Integrada)', u'NVIDIA GeForce GTX 960M (4GB)']\n",
      "\t \t          Adaptador de energía: \t                120W.\n",
      "\t \t                       Bateria: \t  4 celdas (3200 mAh | 11000 mV | 48000 mWh) \n",
      "\t \t                           LAN: \t  10 / 100 / 1000 Mbps\n",
      "\t \t                          Peso: \t              2320 g.\n",
      "\t \t              Puertos de video: \t [u' HDMI', u' Mini DisplayPort']\n",
      "   HP Omen 15-AX002LA (V7R99LA)   \n",
      "\t['price', 'link', 'details']\n",
      "\t details\n",
      "\t \t                      Pantalla: \t  LED 15.6\" (1920x1080) \n",
      "\t \t                    Procesador: \t Intel Core i7 6700HQ (2600 MHz - 3500 MHz) \n",
      "\t \t                Almacenamiento: \t [u'HDD 1TB (5400rpm)', u'M.2 128GB']\n",
      "\t \t                           RAM: \t  16GB DDR4 (2133 MHz) \n",
      "\t \t                        Webcam: \t               1,0 MP\n",
      "\t \t                   ¿Bluetooth?: \t                   Sí\n",
      "\t \t                   Puertos USB: \t                    3\n",
      "\t \t ¿Lector de huellas digitales?: \t                   No\n",
      "\t \t             Sistema Operativo: \t  Microsoft Windows 10 Home\n",
      "\t \t          ¿RAM de doble canal?: \t                   Sí\n",
      "\t \t                 Unidad óptica: \t                   No\n",
      "\t \t                          WiFi: \t  Genérica (802.11 b/g/n/ac)\n",
      "\t \t            Lector de tarjetas: \t  Lector de tarjetas SD\n",
      "\t \t                   Dimensiones: \t   382 x 253 x 25 mm.\n",
      "\t \t             Tarjetas de video: \t [u'Intel HD Graphics 530 (Integrada)', u'NVIDIA GeForce GTX 960M (4GB)']\n",
      "\t \t          Adaptador de energía: \t                120W.\n",
      "\t \t                       Bateria: \t  3 celdas (61500 mWh) \n",
      "\t \t                           LAN: \t  10 / 100 / 1000 Mbps\n",
      "\t \t                          Peso: \t              1580 g.\n",
      "\t \t              Puertos de video: \t                HDMI \n",
      "   Lenovo IdeaPad Y700-15 (I7-6700HQ / 12GB / 1TB / GTX 960M)   \n",
      "\t['price', 'link', 'details']\n",
      "\t details\n",
      "\t \t                      Pantalla: \t  LED 15.6\" (1920x1080) \n",
      "\t \t                    Procesador: \t Intel Core i7 6700HQ (2600 MHz - 3500 MHz) \n",
      "\t \t                Almacenamiento: \t   HDD 1TB (5400rpm) \n",
      "\t \t                           RAM: \t  12GB DDR4 (2133 MHz) \n",
      "\t \t                        Webcam: \t               1,0 MP\n",
      "\t \t                   ¿Bluetooth?: \t                   Sí\n",
      "\t \t                   Puertos USB: \t                    3\n",
      "\t \t ¿Lector de huellas digitales?: \t                   No\n",
      "\t \t             Sistema Operativo: \t  Microsoft Windows 10 Home\n",
      "\t \t          ¿RAM de doble canal?: \t                   Sí\n",
      "\t \t                 Unidad óptica: \t  DVD±RW / Blu-ray (Externa)\n",
      "\t \t                          WiFi: \t  Genérica (802.11 b/g/n)\n",
      "\t \t            Lector de tarjetas: \t               3-en-1\n",
      "\t \t                   Dimensiones: \t   423 x 305 x 28 mm.\n",
      "\t \t             Tarjetas de video: \t [u'Intel HD Graphics 530 (Integrada)', u'NVIDIA GeForce GTX 960M (4GB)']\n",
      "\t \t          Adaptador de energía: \t          Desconocido\n",
      "\t \t                       Bateria: \t            4 celdas \n",
      "\t \t                           LAN: \t        10 / 100 Mbps\n",
      "\t \t                          Peso: \t              2600 g.\n",
      "\t \t              Puertos de video: \t                HDMI \n",
      "   ASUS N551JW-CN357T (90NB08B1-M04750)   \n",
      "\t['price', 'link', 'details']\n",
      "\t details\n",
      "\t \t                      Pantalla: \t  LED 15.6\" (1920x1080) \n",
      "\t \t                    Procesador: \t Intel Core i7 4720HQ (2600 MHz - 3600 MHz) \n",
      "\t \t                Almacenamiento: \t   HDD 1TB (5400rpm) \n",
      "\t \t                           RAM: \t  12GB DDR3L (1600 MHz) \n",
      "\t \t                        Webcam: \t               1,0 MP\n",
      "\t \t                   ¿Bluetooth?: \t                   Sí\n",
      "\t \t                   Puertos USB: \t                    3\n",
      "\t \t ¿Lector de huellas digitales?: \t                   No\n",
      "\t \t             Sistema Operativo: \t  Microsoft Windows 10 Home\n",
      "\t \t          ¿RAM de doble canal?: \t                   No\n",
      "\t \t                 Unidad óptica: \t  DVD±RW / Grabador Blu-ray\n",
      "\t \t                          WiFi: \t  Genérica (802.11 b/g/n)\n",
      "\t \t            Lector de tarjetas: \t               3-en-1\n",
      "\t \t                   Dimensiones: \t   382 x 255 x 33 mm.\n",
      "\t \t             Tarjetas de video: \t [u'NVIDIA GeForce GTX 960M (4GB)', u'Intel HD Graphics 4600 (Integrada)']\n",
      "\t \t          Adaptador de energía: \t          Desconocido\n",
      "\t \t                       Bateria: \t  6 celdas (5200 mAh | 11100 mV | 56000 mWh) \n",
      "\t \t                           LAN: \t  10 / 100 / 1000 Mbps\n",
      "\t \t                          Peso: \t              2700 g.\n",
      "\t \t              Puertos de video: \t [u' HDMI', u' Mini DisplayPort']\n",
      "   ASUS ROG G552VW-CN452T   \n",
      "\t['price', 'link', 'details']\n",
      "\t details\n",
      "\t \t                      Pantalla: \t  LED 15.6\" (1920x1080) \n",
      "\t \t                    Procesador: \t Intel Core i7 6700HQ (2600 MHz - 3500 MHz) \n",
      "\t \t                Almacenamiento: \t [u'HDD 1TB (7200rpm)', u'SSD 128GB']\n",
      "\t \t                           RAM: \t  16GB DDR4 (2133 MHz) \n",
      "\t \t                        Webcam: \t               1,0 MP\n",
      "\t \t                   ¿Bluetooth?: \t                   Sí\n",
      "\t \t                   Puertos USB: \t                    3\n",
      "\t \t ¿Lector de huellas digitales?: \t                   No\n",
      "\t \t             Sistema Operativo: \t  Microsoft Windows 10 Home\n",
      "\t \t          ¿RAM de doble canal?: \t                   No\n",
      "\t \t                 Unidad óptica: \t     DVD±RW / Blu-ray\n",
      "\t \t                          WiFi: \t  Genérica (802.11 b/g/n/ac)\n",
      "\t \t            Lector de tarjetas: \t               2-en-1\n",
      "\t \t                   Dimensiones: \t   385 x 255 x 32 mm.\n",
      "\t \t             Tarjetas de video: \t [u'Intel HD Graphics 530 (Integrada)', u'NVIDIA GeForce GTX 960M (4GB)']\n",
      "\t \t          Adaptador de energía: \t          Desconocido\n",
      "\t \t                       Bateria: \t  4 celdas (3200 mAh) \n",
      "\t \t                           LAN: \t  10 / 100 / 1000 Mbps\n",
      "\t \t                          Peso: \t              2500 g.\n",
      "\t \t              Puertos de video: \t                HDMI \n"
     ]
    }
   ],
   "source": [
    "for k in results.keys():\n",
    "    print k\n",
    "    print \"\\t\", results[k].keys()\n",
    "    print \"\\t details\"\n",
    "    for d in results[k][\"details\"].keys():\n",
    "        print \"\\t \\t %30s \\t %20s\"%(d,results[k][\"details\"][d])"
   ]
  },
  {
   "cell_type": "markdown",
   "metadata": {},
   "source": [
    "# Modularizar todo a un archivo"
   ]
  },
  {
   "cell_type": "code",
   "execution_count": 53,
   "metadata": {
    "collapsed": true
   },
   "outputs": [],
   "source": [
    "%reset -f"
   ]
  },
  {
   "cell_type": "markdown",
   "metadata": {},
   "source": [
    "Primero copy paste de la funcion <a href=\"#getURLList\">getURLList</a>"
   ]
  },
  {
   "cell_type": "code",
   "execution_count": 54,
   "metadata": {
    "collapsed": false
   },
   "outputs": [
    {
     "name": "stdout",
     "output_type": "stream",
     "text": [
      "Overwriting solocatalogo.py\n"
     ]
    }
   ],
   "source": [
    "%%writefile solocatalogo.py\n",
    "\n",
    "from bs4 import BeautifulSoup\n",
    "import requests\n",
    "\n",
    "def getURLList(url):\n",
    "    \"\"\"\n",
    "        Recibe la url y retorna las url con todas las paginas\n",
    "        de los resultados de busqueda\n",
    "    \"\"\"\n",
    "    \n",
    "    # Realizamos la peticion a la web\n",
    "    req = requests.get(url)\n",
    "    # Comprobamos que la peticion nos devuelve un Status Code = 200\n",
    "    statusCode = req.status_code\n",
    "\n",
    "    # Pasamos el contenido HTML de la web a un objeto BeautifulSoup()\n",
    "    html = BeautifulSoup(req.text)\n",
    "\n",
    "    # Obtener el ul pagination\n",
    "    pagination = html.find('ul',{'class':'pagination'})\n",
    "    \n",
    "    #si no hay pagination, retorna la url original:\n",
    "    if pagination == None:\n",
    "        urlList = [url]\n",
    "    else:        \n",
    "        # Leer cuantas paginas hay en total\n",
    "        linkLast = pagination.contents[-1] \\\n",
    "                .find(\"a\") \\\n",
    "                .attrs[\"href\"]\n",
    "        root,branch = linkLast.rsplit(\"page_number=\")\n",
    "        npages = int(branch)\n",
    "\n",
    "        # generar la lista de urls\n",
    "        urlList = [\"http://www.solotodo.com%spage_number=%i\"%(root,i+1) for i in range(npages)]\n",
    "    return urlList"
   ]
  },
  {
   "cell_type": "markdown",
   "metadata": {},
   "source": [
    "Copy paste de la funcion [getProductsURL](#getProductsURL)"
   ]
  },
  {
   "cell_type": "code",
   "execution_count": 55,
   "metadata": {
    "collapsed": false
   },
   "outputs": [
    {
     "name": "stdout",
     "output_type": "stream",
     "text": [
      "Appending to solocatalogo.py\n"
     ]
    }
   ],
   "source": [
    "%%writefile solocatalogo.py -a\n",
    "\n",
    "def getProductsURL(URL,getDetails = False):\n",
    "    \"\"\"\n",
    "        Recibe la direccion de una busqueda de solotodo\n",
    "        y retorna un diccionario con los productos encontrados,\n",
    "        incluso si estos son mostrados en varias paginas en solotodo.\n",
    "        Input:\n",
    "            URL: string con la direccion del resultado de la \n",
    "                 consulta en solotodo.\n",
    "            getDetails: T/F si se desea sacar los detalles directamente\n",
    "                de la pagina de busqueda, o si no.\n",
    "        Output\n",
    "            Diccionario de la forma:\n",
    "            \n",
    "            products[\"product name\"] = {\n",
    "                # link a la pagina del producto\n",
    "                link: \"www.solotodo.com/... \", \n",
    "                \n",
    "                # string con el precio registrado en solotodo\n",
    "                price: \"$999.999\", \n",
    "                \n",
    "                #diccionario con los detalles de la pagina de busqueda\n",
    "                #si es que getDetails = True. False por defecto\n",
    "                details: {...} \n",
    "            }\n",
    "        \n",
    "        \n",
    "    \"\"\"\n",
    "    #inicializamos el output\n",
    "    products = {}\n",
    "    \n",
    "    URLList = getURLList(URL)\n",
    "    \n",
    "    for ipage, thisURL in enumerate(URLList):\n",
    "        print u'Revisando pagina %i de %i: \\n\\t%s'%(ipage+1,len(URLList),thisURL)\n",
    "        \n",
    "        # Realizamos la peticion a la web\n",
    "        req = requests.get(thisURL)\n",
    "        # Comprobamos que la peticion nos devuelve un Status Code = 200\n",
    "        statusCode = req.status_code\n",
    "        if statusCode==200:\n",
    "            # Pasamos el contenido HTML de la web a un objeto BeautifulSoup()\n",
    "            html = BeautifulSoup(req.text)\n",
    "\n",
    "            # Obtenemos todos los divs donde estan las entradas\n",
    "            entradas = html.find_all('div',{'class':'search_result'})\n",
    "\n",
    "            for i,entrada in enumerate(entradas):\n",
    "                if getDetails:\n",
    "                    # Obtener el \"ul\" con los detalles de la entrada actual\n",
    "                    detalles = entrada.find('ul',{'class':'with_margin_top list-without-decoration'})\n",
    "\n",
    "                    #sacar la lista de propiedades \n",
    "                    props = detalles.find_all('li',recursive=False)\n",
    "                    propsDict = {}\n",
    "                    for i,p in enumerate(props):\n",
    "                        header = p.contents[0].getText()\n",
    "                        if len(p.findAll('li'))>0:\n",
    "                            props[i] = [pi.getText() for pi in p.findAll('li')]\n",
    "                        else:\n",
    "                            props[i] = p.getText()\n",
    "                        propsDict[header]= props[i]            \n",
    "                productPrice = entrada.find('a',{'class':'search-result-price'}).getText()\n",
    "                productLink = entrada.find('a',{'class':'link'}).attrs['href']\n",
    "                productLink = 'http://www.solotodo.com'+productLink\n",
    "                productTitle = entrada.find('h4',{'class':'search-result-title'}).getText()\n",
    "                products[productTitle] = {\n",
    "                    'link': productLink,\n",
    "                    'price': productPrice\n",
    "                }\n",
    "                if getDetails:\n",
    "                    products[productTitle]['details'] = propsDict\n",
    "    return products"
   ]
  },
  {
   "cell_type": "markdown",
   "metadata": {},
   "source": [
    "Luego copy paste de a funcion [getDetails](#getDetails)"
   ]
  },
  {
   "cell_type": "code",
   "execution_count": 56,
   "metadata": {
    "collapsed": false
   },
   "outputs": [
    {
     "name": "stdout",
     "output_type": "stream",
     "text": [
      "Appending to solocatalogo.py\n"
     ]
    }
   ],
   "source": [
    "%%writefile solocatalogo.py -a\n",
    "\n",
    "def getDetails(url):\n",
    "    \"\"\"\n",
    "        Recibe la url de la pagina con los detalles de un producto de solotodo\n",
    "        y entrega un diccionario con los detalles encontrados en esa pagina.\n",
    "    \"\"\"\n",
    "    req = requests.get(url)\n",
    "    statusCode = req.status_code\n",
    "    if statusCode==200:\n",
    "        html = BeautifulSoup(req.text)    \n",
    "        \n",
    "    entradas = html.find_all('ul',{'class':'with_margin_top list-without-decoration-2'})\n",
    "    \n",
    "    propsDict = {}\n",
    "    for e in entradas:\n",
    "        props = e.find_all('li',recursive=False)\n",
    "\n",
    "        for i,p in enumerate(props):\n",
    "            #nombre del campo que se esta leyendo\n",
    "            header = p.contents[0].getText()\n",
    "\n",
    "            #si el campo tiene \"li\", transformar en lista\n",
    "            if len(p.findAll('li'))>0:\n",
    "                props[i] = [pi.getText() for pi in p.findAll('li')]\n",
    "\n",
    "            #si el campo es un anchor, sacar solo el texto, no el link\n",
    "            elif len(p.findAll('a'))>0:\n",
    "                props[i] = p.contents[-1].getText()\n",
    "\n",
    "            #sino, solo sacar el texto, que deberia ser el ultimo contenido\n",
    "            else:\n",
    "                props[i] = p.contents[-1]\n",
    "            propsDict[header]= props[i]   \n",
    "    return propsDict"
   ]
  },
  {
   "cell_type": "markdown",
   "metadata": {},
   "source": [
    "Y la funcion que genera el catalogo"
   ]
  },
  {
   "cell_type": "code",
   "execution_count": 57,
   "metadata": {
    "collapsed": false
   },
   "outputs": [
    {
     "name": "stdout",
     "output_type": "stream",
     "text": [
      "Appending to solocatalogo.py\n"
     ]
    }
   ],
   "source": [
    "%%writefile solocatalogo.py -a\n",
    "\n",
    "def getCatalog(qURL):\n",
    "    catalog = getProductsURL(qURL)\n",
    "    for product in catalog.keys():\n",
    "        link = catalog[product]['link']\n",
    "        details = getDetails(link)\n",
    "        catalog[product]['details'] = details\n",
    "    return catalog"
   ]
  },
  {
   "cell_type": "code",
   "execution_count": 58,
   "metadata": {
    "collapsed": true
   },
   "outputs": [],
   "source": [
    "qURL= \"http://www.solotodo.com/notebooks/?min_price=99990&max_price=1001329&keywords=&notebook_brand=&notebook_line=&processor_brand=&processor_line_family=&processor=&ram_quantity=103199&ram_type=&storage_capacity=&storage_type=&storage_rpm=&min_screen_size=103114&max_screen_size=103150&screen_resolution=&screen_touch=&video_card_type=&video_card_brand=&video_card_line=103900&video_card=110425&operating_system=&optical_drive=&advanced_controls=1&ordering=\""
   ]
  },
  {
   "cell_type": "code",
   "execution_count": 59,
   "metadata": {
    "collapsed": false
   },
   "outputs": [
    {
     "name": "stdout",
     "output_type": "stream",
     "text": [
      "Revisando pagina 1 de 1: \n",
      "\thttp://www.solotodo.com/notebooks/?min_price=99990&max_price=1001329&keywords=&notebook_brand=&notebook_line=&processor_brand=&processor_line_family=&processor=&ram_quantity=103199&ram_type=&storage_capacity=&storage_type=&storage_rpm=&min_screen_size=103114&max_screen_size=103150&screen_resolution=&screen_touch=&video_card_type=&video_card_brand=&video_card_line=103900&video_card=110425&operating_system=&optical_drive=&advanced_controls=1&ordering=\n"
     ]
    }
   ],
   "source": [
    "import solocatalogo as sc\n",
    "cat = sc.getCatalog(qURL)"
   ]
  },
  {
   "cell_type": "code",
   "execution_count": 60,
   "metadata": {
    "collapsed": false,
    "scrolled": false
   },
   "outputs": [
    {
     "data": {
      "text/plain": [
       "[u'   ASUS N552VW-FI100T   ',\n",
       " u'   HP Omen 15-AX002LA (V7R99LA)   ',\n",
       " u'   Lenovo IdeaPad Y700-15 (I7-6700HQ / 12GB / 1TB / GTX 960M)   ',\n",
       " u'   ASUS N551JW-CN357T (90NB08B1-M04750)   ',\n",
       " u'   ASUS ROG G552VW-CN452T   ']"
      ]
     },
     "execution_count": 60,
     "metadata": {},
     "output_type": "execute_result"
    }
   ],
   "source": [
    "cat.keys()"
   ]
  },
  {
   "cell_type": "code",
   "execution_count": 61,
   "metadata": {
    "collapsed": true
   },
   "outputs": [],
   "source": [
    "url2 = \"http://www.solotodo.com/notebooks/?min_price=99990&max_price=1001329&keywords=&notebook_brand=&notebook_line=&processor_brand=&processor_line_family=&processor=&ram_quantity=103199&ram_type=&storage_capacity=&storage_type=&storage_rpm=&min_screen_size=103114&max_screen_size=103150&screen_resolution=&screen_touch=&video_card_type=&video_card_brand=&video_card_line=103900&video_card=&operating_system=&optical_drive=&advanced_controls=1&ordering=\""
   ]
  },
  {
   "cell_type": "code",
   "execution_count": 62,
   "metadata": {
    "collapsed": false
   },
   "outputs": [
    {
     "name": "stdout",
     "output_type": "stream",
     "text": [
      "Revisando pagina 1 de 3: \n",
      "\thttp://www.solotodo.com/notebooks/?advanced_controls=1&keywords=&ordering=&ram_quantity=103199&min_screen_size=103114&max_screen_size=103150&video_card_line=103900&screen_touch=&min_price=99990&max_price=1001329&page_number=1\n",
      "Revisando pagina 2 de 3: \n",
      "\thttp://www.solotodo.com/notebooks/?advanced_controls=1&keywords=&ordering=&ram_quantity=103199&min_screen_size=103114&max_screen_size=103150&video_card_line=103900&screen_touch=&min_price=99990&max_price=1001329&page_number=2\n",
      "Revisando pagina 3 de 3: \n",
      "\thttp://www.solotodo.com/notebooks/?advanced_controls=1&keywords=&ordering=&ram_quantity=103199&min_screen_size=103114&max_screen_size=103150&video_card_line=103900&screen_touch=&min_price=99990&max_price=1001329&page_number=3\n"
     ]
    }
   ],
   "source": [
    "cat = sc.getCatalog(url2)"
   ]
  },
  {
   "cell_type": "code",
   "execution_count": 67,
   "metadata": {
    "collapsed": false,
    "scrolled": false
   },
   "outputs": [
    {
     "name": "stdout",
     "output_type": "stream",
     "text": [
      "   ASUS ROG GL552VX-DM093T   \n",
      "\t['price', 'link', 'details']\n",
      "\t details\n",
      "\t \t                      Pantalla: \t  LED 15.6\" (1920x1080) \n",
      "\t \t                    Procesador: \t Intel Core i7 6700HQ (2600 MHz - 3500 MHz) \n",
      "\t \t                Almacenamiento: \t   HDD 1TB (7200rpm) \n",
      "\t \t                           RAM: \t  12GB DDR4 (2133 MHz) \n",
      "\t \t                        Webcam: \t               1,0 MP\n",
      "\t \t                   ¿Bluetooth?: \t                   Sí\n",
      "\t \t                   Puertos USB: \t                    3\n",
      "\t \t ¿Lector de huellas digitales?: \t                   No\n",
      "\t \t             Sistema Operativo: \t  Microsoft Windows 10 Home\n",
      "\t \t          ¿RAM de doble canal?: \t                   Sí\n",
      "\t \t                 Unidad óptica: \t               DVD±RW\n",
      "\t \t                          WiFi: \t  Genérica (802.11 b/g/n/ac)\n",
      "\t \t            Lector de tarjetas: \t               3-en-1\n",
      "\t \t                   Dimensiones: \t   385 x 255 x 33 mm.\n",
      "\t \t             Tarjetas de video: \t [u'NVIDIA GeForce GTX 950M (2GB)', u'Intel HD Graphics 530 (Integrada)']\n",
      "\t \t          Adaptador de energía: \t                120W.\n",
      "\t \t                       Bateria: \t  4 celdas (6320 mAh | 19000 mV | 48000 mWh) \n",
      "\t \t                           LAN: \t  10 / 100 / 1000 Mbps\n",
      "\t \t                          Peso: \t              2600 g.\n",
      "\t \t              Puertos de video: \t                HDMI \n",
      "   ASUS ROG G552VW-CN452T   \n",
      "\t['price', 'link', 'details']\n",
      "\t details\n",
      "\t \t                      Pantalla: \t  LED 15.6\" (1920x1080) \n",
      "\t \t                    Procesador: \t Intel Core i7 6700HQ (2600 MHz - 3500 MHz) \n",
      "\t \t                Almacenamiento: \t [u'HDD 1TB (7200rpm)', u'SSD 128GB']\n",
      "\t \t                           RAM: \t  16GB DDR4 (2133 MHz) \n",
      "\t \t                        Webcam: \t               1,0 MP\n",
      "\t \t                   ¿Bluetooth?: \t                   Sí\n",
      "\t \t                   Puertos USB: \t                    3\n",
      "\t \t ¿Lector de huellas digitales?: \t                   No\n",
      "\t \t             Sistema Operativo: \t  Microsoft Windows 10 Home\n",
      "\t \t          ¿RAM de doble canal?: \t                   No\n",
      "\t \t                 Unidad óptica: \t     DVD±RW / Blu-ray\n",
      "\t \t                          WiFi: \t  Genérica (802.11 b/g/n/ac)\n",
      "\t \t            Lector de tarjetas: \t               2-en-1\n",
      "\t \t                   Dimensiones: \t   385 x 255 x 32 mm.\n",
      "\t \t             Tarjetas de video: \t [u'Intel HD Graphics 530 (Integrada)', u'NVIDIA GeForce GTX 960M (4GB)']\n",
      "\t \t          Adaptador de energía: \t          Desconocido\n",
      "\t \t                       Bateria: \t  4 celdas (3200 mAh) \n",
      "\t \t                           LAN: \t  10 / 100 / 1000 Mbps\n",
      "\t \t                          Peso: \t              2500 g.\n",
      "\t \t              Puertos de video: \t                HDMI \n",
      "   HP Pavilion 15-AK006LA (P0E26LA)   \n",
      "\t['price', 'link', 'details']\n",
      "\t details\n",
      "\t \t                      Pantalla: \t  LED 15.6\" (1920x1080) \n",
      "\t \t                    Procesador: \t Intel Core i7 6700HQ (2600 MHz - 3500 MHz) \n",
      "\t \t                Almacenamiento: \t           SSD 256GB \n",
      "\t \t                           RAM: \t  16GB DDR3L (1600 MHz) \n",
      "\t \t                        Webcam: \t               1,3 MP\n",
      "\t \t                   ¿Bluetooth?: \t                   Sí\n",
      "\t \t                   Puertos USB: \t                    3\n",
      "\t \t ¿Lector de huellas digitales?: \t                   No\n",
      "\t \t             Sistema Operativo: \t  Microsoft Windows 10 Home\n",
      "\t \t          ¿RAM de doble canal?: \t                   Sí\n",
      "\t \t                 Unidad óptica: \t               DVD±RW\n",
      "\t \t                          WiFi: \t  Genérica (802.11 b/g/n)\n",
      "\t \t            Lector de tarjetas: \t               4-en-1\n",
      "\t \t                   Dimensiones: \t   385 x 261 x 25 mm.\n",
      "\t \t             Tarjetas de video: \t [u'Intel HD Graphics 530 (Integrada)', u'NVIDIA GeForce GTX 950M (4GB)']\n",
      "\t \t          Adaptador de energía: \t                 90W.\n",
      "\t \t                       Bateria: \t  4 celdas (48000 mWh) \n",
      "\t \t                           LAN: \t  10 / 100 / 1000 Mbps\n",
      "\t \t                          Peso: \t              2280 g.\n",
      "\t \t              Puertos de video: \t                HDMI \n",
      "   HP Envy 17-N103LA (L9M14LA)   \n",
      "\t['price', 'link', 'details']\n",
      "\t details\n",
      "\t \t                      Pantalla: \t  LED 17.3\" (1920x1080) \n",
      "\t \t                    Procesador: \t Intel Core i7 6700HQ (2600 MHz - 3500 MHz) \n",
      "\t \t                Almacenamiento: \t   HDD 1TB (5400rpm) \n",
      "\t \t                           RAM: \t  12GB DDR3 (1600 MHz) \n",
      "\t \t                        Webcam: \t               1,0 MP\n",
      "\t \t                   ¿Bluetooth?: \t                   Sí\n",
      "\t \t                   Puertos USB: \t                    4\n",
      "\t \t ¿Lector de huellas digitales?: \t                   Sí\n",
      "\t \t             Sistema Operativo: \t  Microsoft Windows 10 Home\n",
      "\t \t          ¿RAM de doble canal?: \t                   No\n",
      "\t \t                 Unidad óptica: \t               DVD±RW\n",
      "\t \t                          WiFi: \t  Genérica (802.11 b/g/n)\n",
      "\t \t            Lector de tarjetas: \t  Lector de tarjetas SD\n",
      "\t \t                   Dimensiones: \t   415 x 281 x 30 mm.\n",
      "\t \t             Tarjetas de video: \t [u'Intel HD Graphics 530 (Integrada)', u'NVIDIA GeForce 940M (2GB)']\n",
      "\t \t          Adaptador de energía: \t                120W.\n",
      "\t \t                       Bateria: \t  6 celdas (2800 mAh | 62000 mWh) \n",
      "\t \t                           LAN: \t  10 / 100 / 1000 Mbps\n",
      "\t \t                          Peso: \t              2820 g.\n",
      "\t \t              Puertos de video: \t                HDMI \n",
      "   ASUS N551JW-CN357T (90NB08B1-M04750)   \n",
      "\t['price', 'link', 'details']\n",
      "\t details\n",
      "\t \t                      Pantalla: \t  LED 15.6\" (1920x1080) \n",
      "\t \t                    Procesador: \t Intel Core i7 4720HQ (2600 MHz - 3600 MHz) \n",
      "\t \t                Almacenamiento: \t   HDD 1TB (5400rpm) \n",
      "\t \t                           RAM: \t  12GB DDR3L (1600 MHz) \n",
      "\t \t                        Webcam: \t               1,0 MP\n",
      "\t \t                   ¿Bluetooth?: \t                   Sí\n",
      "\t \t                   Puertos USB: \t                    3\n",
      "\t \t ¿Lector de huellas digitales?: \t                   No\n",
      "\t \t             Sistema Operativo: \t  Microsoft Windows 10 Home\n",
      "\t \t          ¿RAM de doble canal?: \t                   No\n",
      "\t \t                 Unidad óptica: \t  DVD±RW / Grabador Blu-ray\n",
      "\t \t                          WiFi: \t  Genérica (802.11 b/g/n)\n",
      "\t \t            Lector de tarjetas: \t               3-en-1\n",
      "\t \t                   Dimensiones: \t   382 x 255 x 33 mm.\n",
      "\t \t             Tarjetas de video: \t [u'NVIDIA GeForce GTX 960M (4GB)', u'Intel HD Graphics 4600 (Integrada)']\n",
      "\t \t          Adaptador de energía: \t          Desconocido\n",
      "\t \t                       Bateria: \t  6 celdas (5200 mAh | 11100 mV | 56000 mWh) \n",
      "\t \t                           LAN: \t  10 / 100 / 1000 Mbps\n",
      "\t \t                          Peso: \t              2700 g.\n",
      "\t \t              Puertos de video: \t [u' HDMI', u' Mini DisplayPort']\n",
      "   ASUS G501JW-CN170H   \n",
      "\t['price', 'link', 'details']\n",
      "\t details\n",
      "\t \t                      Pantalla: \t  LED 15.6\" (1920x1080) \n",
      "\t \t                    Procesador: \t Intel Core i7 4720HQ (2600 MHz - 3600 MHz) \n",
      "\t \t                Almacenamiento: \t   HDD 1TB (5400rpm) \n",
      "\t \t                           RAM: \t  12GB DDR3L (1600 MHz) \n",
      "\t \t                        Webcam: \t               2,0 MP\n",
      "\t \t                   ¿Bluetooth?: \t                   Sí\n",
      "\t \t                   Puertos USB: \t                    3\n",
      "\t \t ¿Lector de huellas digitales?: \t                   No\n",
      "\t \t             Sistema Operativo: \t  Microsoft Windows 8.1\n",
      "\t \t          ¿RAM de doble canal?: \t                   Sí\n",
      "\t \t                 Unidad óptica: \t                   No\n",
      "\t \t                          WiFi: \t  Genérica (802.11 b/g/n)\n",
      "\t \t            Lector de tarjetas: \t               2-en-1\n",
      "\t \t                   Dimensiones: \t   383 x 255 x 21 mm.\n",
      "\t \t             Tarjetas de video: \t [u'NVIDIA GeForce GTX 960M (2GB)', u'Intel GMA HD Graphics 4600 (Integrada)']\n",
      "\t \t          Adaptador de energía: \t          Desconocido\n",
      "\t \t                       Bateria: \t  4 celdas (60000 mWh) \n",
      "\t \t                           LAN: \t        10 / 100 Mbps\n",
      "\t \t                          Peso: \t              2060 g.\n",
      "\t \t              Puertos de video: \t [u' Mini DisplayPort', u' HDMI']\n",
      "   ASUS N552VW-FI100T   \n",
      "\t['price', 'link', 'details']\n",
      "\t details\n",
      "\t \t                      Pantalla: \t  LED 15.6\" (3840x2160) \n",
      "\t \t                    Procesador: \t Intel Core i7 6700HQ (2600 MHz - 3500 MHz) \n",
      "\t \t                Almacenamiento: \t   HDD 1TB (5400rpm) \n",
      "\t \t                           RAM: \t  12GB DDR4L (2133 MHz) \n",
      "\t \t                        Webcam: \t               1,0 MP\n",
      "\t \t                   ¿Bluetooth?: \t                   Sí\n",
      "\t \t                   Puertos USB: \t                    3\n",
      "\t \t ¿Lector de huellas digitales?: \t                   No\n",
      "\t \t             Sistema Operativo: \t  Microsoft Windows 10 Home\n",
      "\t \t          ¿RAM de doble canal?: \t                   No\n",
      "\t \t                 Unidad óptica: \t     DVD±RW / Blu-ray\n",
      "\t \t                          WiFi: \t  Genérica (802.11 b/g/n)\n",
      "\t \t            Lector de tarjetas: \t               2-en-1\n",
      "\t \t                   Dimensiones: \t   383 x 260 x 29 mm.\n",
      "\t \t             Tarjetas de video: \t [u'Intel HD Graphics 530 (Integrada)', u'NVIDIA GeForce GTX 960M (4GB)']\n",
      "\t \t          Adaptador de energía: \t                120W.\n",
      "\t \t                       Bateria: \t  4 celdas (3200 mAh | 11000 mV | 48000 mWh) \n",
      "\t \t                           LAN: \t  10 / 100 / 1000 Mbps\n",
      "\t \t                          Peso: \t              2320 g.\n",
      "\t \t              Puertos de video: \t [u' HDMI', u' Mini DisplayPort']\n",
      "   ASUS Zenbook UX303UB-R4144T (90NB08U1-M02500)   \n",
      "\t['price', 'link', 'details']\n",
      "\t details\n",
      "\t \t                      Pantalla: \t  LED 13.3\" (1920x1080) \n",
      "\t \t                    Procesador: \t Intel Core i7 6500U (2500 MHz - 3100 MHz) \n",
      "\t \t                Almacenamiento: \t   HDD 1TB (5400rpm) \n",
      "\t \t                           RAM: \t  12GB DDR3L (1600 MHz) \n",
      "\t \t                        Webcam: \t               1,0 MP\n",
      "\t \t                   ¿Bluetooth?: \t                   Sí\n",
      "\t \t                   Puertos USB: \t                    3\n",
      "\t \t ¿Lector de huellas digitales?: \t                   No\n",
      "\t \t             Sistema Operativo: \t  Microsoft Windows 10 Home\n",
      "\t \t          ¿RAM de doble canal?: \t                   No\n",
      "\t \t                 Unidad óptica: \t                   No\n",
      "\t \t                          WiFi: \t  Genérica (802.11 a/b/g/n)\n",
      "\t \t            Lector de tarjetas: \t               2-en-1\n",
      "\t \t                   Dimensiones: \t   323 x 223 x 19 mm.\n",
      "\t \t             Tarjetas de video: \t [u'NVIDIA GeForce 940M (2GB)', u'Intel HD Graphics 520 (Integrada)']\n",
      "\t \t          Adaptador de energía: \t          Desconocido\n",
      "\t \t                       Bateria: \t  3 celdas (50000 mWh) \n",
      "\t \t                           LAN: \t                   No\n",
      "\t \t                          Peso: \t              1450 g.\n",
      "\t \t              Puertos de video: \t [u' HDMI', u' Mini DisplayPort']\n",
      "   HP Pavilion 15-AK003LA (P0E03LA)   \n",
      "\t['price', 'link', 'details']\n",
      "\t details\n",
      "\t \t                      Pantalla: \t  LED 15.6\" (1920x1080) \n",
      "\t \t                    Procesador: \t Intel Core i7 6700HQ (2600 MHz - 3500 MHz) \n",
      "\t \t                Almacenamiento: \t           SSD 256GB \n",
      "\t \t                           RAM: \t  16GB DDR3L (1600 MHz) \n",
      "\t \t                        Webcam: \t               1,3 MP\n",
      "\t \t                   ¿Bluetooth?: \t                   Sí\n",
      "\t \t                   Puertos USB: \t                    3\n",
      "\t \t ¿Lector de huellas digitales?: \t                   No\n",
      "\t \t             Sistema Operativo: \t  Microsoft Windows 10 Home\n",
      "\t \t          ¿RAM de doble canal?: \t                   Sí\n",
      "\t \t                 Unidad óptica: \t               DVD±RW\n",
      "\t \t                          WiFi: \t  Genérica (802.11 b/g/n/ac)\n",
      "\t \t            Lector de tarjetas: \t               4-en-1\n",
      "\t \t                   Dimensiones: \t   385 x 261 x 25 mm.\n",
      "\t \t             Tarjetas de video: \t [u'Intel HD Graphics 530 (Integrada)', u'NVIDIA GeForce GTX 950M (4GB)']\n",
      "\t \t          Adaptador de energía: \t                 90W.\n",
      "\t \t                       Bateria: \t  4 celdas (41000 mWh) \n",
      "\t \t                           LAN: \t  10 / 100 / 1000 Mbps\n",
      "\t \t                          Peso: \t              2300 g.\n",
      "\t \t              Puertos de video: \t                HDMI \n",
      "   Lenovo IdeaPad 700-15 (i7 6700HQ / 12 GB / 1000 GB / GTX 950 2GB)   \n",
      "\t['price', 'link', 'details']\n",
      "\t details\n",
      "\t \t                      Pantalla: \t  LED 15.6\" (1920x1080) \n",
      "\t \t                    Procesador: \t Intel Core i7 6700HQ (2600 MHz - 3500 MHz) \n",
      "\t \t                Almacenamiento: \t   HDD 1TB (5400rpm) \n",
      "\t \t                           RAM: \t  12GB DDR4 (2133 MHz) \n",
      "\t \t                        Webcam: \t               1,0 MP\n",
      "\t \t                   ¿Bluetooth?: \t                   Sí\n",
      "\t \t                   Puertos USB: \t                    3\n",
      "\t \t ¿Lector de huellas digitales?: \t                   No\n",
      "\t \t             Sistema Operativo: \t  Microsoft Windows 10 Home\n",
      "\t \t          ¿RAM de doble canal?: \t                   No\n",
      "\t \t                 Unidad óptica: \t                   No\n",
      "\t \t                          WiFi: \t  Intel 3165 (802.11 a/b/g/n/ac)\n",
      "\t \t            Lector de tarjetas: \t               4-en-1\n",
      "\t \t                   Dimensiones: \t   384 x 265 x 23 mm.\n",
      "\t \t             Tarjetas de video: \t [u'NVIDIA GeForce GTX 950M (2GB)', u'Intel HD Graphics 530 (Integrada)']\n",
      "\t \t          Adaptador de energía: \t          Desconocido\n",
      "\t \t                       Bateria: \t            3 celdas \n",
      "\t \t                           LAN: \t  10 / 100 / 1000 Mbps\n",
      "\t \t                          Peso: \t              2300 g.\n",
      "\t \t              Puertos de video: \t                HDMI \n",
      "   ASUS GL552VW-DM464T   \n",
      "\t['price', 'link', 'details']\n",
      "\t details\n",
      "\t \t                      Pantalla: \t  LED 15.6\" (1920x1080) \n",
      "\t \t                    Procesador: \t Intel Core i7 6700HQ (2600 MHz - 3500 MHz) \n",
      "\t \t                Almacenamiento: \t   HDD 1TB (7200rpm) \n",
      "\t \t                           RAM: \t  12GB DDR4 (2133 MHz) \n",
      "\t \t                        Webcam: \t               1,0 MP\n",
      "\t \t                   ¿Bluetooth?: \t                   Sí\n",
      "\t \t                   Puertos USB: \t                    4\n",
      "\t \t ¿Lector de huellas digitales?: \t                   No\n",
      "\t \t             Sistema Operativo: \t  Microsoft Windows 10 Home\n",
      "\t \t          ¿RAM de doble canal?: \t                   No\n",
      "\t \t                 Unidad óptica: \t               DVD±RW\n",
      "\t \t                          WiFi: \t  Genérica (802.11 b/g/n)\n",
      "\t \t            Lector de tarjetas: \t               3-en-1\n",
      "\t \t                   Dimensiones: \t   385 x 257 x 35 mm.\n",
      "\t \t             Tarjetas de video: \t [u'Intel HD Graphics 530 (Integrada)', u'NVIDIA GeForce GTX 960M (2GB)']\n",
      "\t \t          Adaptador de energía: \t          Desconocido\n",
      "\t \t                       Bateria: \t  4 celdas (48000 mWh) \n",
      "\t \t                           LAN: \t  10 / 100 / 1000 Mbps\n",
      "\t \t                          Peso: \t              2550 g.\n",
      "\t \t              Puertos de video: \t                HDMI \n",
      "   HP Envy 15-AE105LA (P0D92LA)   \n",
      "\t['price', 'link', 'details']\n",
      "\t details\n",
      "\t \t                      Pantalla: \t  LED 15.6\" (1366x768) \n",
      "\t \t                    Procesador: \t Intel Core i7 6500U (2500 MHz - 3100 MHz) \n",
      "\t \t                Almacenamiento: \t   HDD 1TB (5400rpm) \n",
      "\t \t                           RAM: \t  16GB DDR3L (1600 MHz) \n",
      "\t \t                        Webcam: \t               1,0 MP\n",
      "\t \t                   ¿Bluetooth?: \t                   Sí\n",
      "\t \t                   Puertos USB: \t                    4\n",
      "\t \t ¿Lector de huellas digitales?: \t                   No\n",
      "\t \t             Sistema Operativo: \t  Microsoft Windows 10 Home\n",
      "\t \t          ¿RAM de doble canal?: \t                   Sí\n",
      "\t \t                 Unidad óptica: \t                   No\n",
      "\t \t                          WiFi: \t  Genérica (802.11 b/g/n/ac)\n",
      "\t \t            Lector de tarjetas: \t               3-en-1\n",
      "\t \t                   Dimensiones: \t   384 x 255 x 23 mm.\n",
      "\t \t             Tarjetas de video: \t [u'Intel HD Graphics 520 (Integrada)', u'NVIDIA GeForce GTX 950M (4GB)']\n",
      "\t \t          Adaptador de energía: \t                 90W.\n",
      "\t \t                       Bateria: \t  3 celdas (55500 mWh) \n",
      "\t \t                           LAN: \t  10 / 100 / 1000 Mbps\n",
      "\t \t                          Peso: \t              2360 g.\n",
      "\t \t              Puertos de video: \t                HDMI \n",
      "   HP Omen 15-AX002LA (V7R99LA)   \n",
      "\t['price', 'link', 'details']\n",
      "\t details\n",
      "\t \t                      Pantalla: \t  LED 15.6\" (1920x1080) \n",
      "\t \t                    Procesador: \t Intel Core i7 6700HQ (2600 MHz - 3500 MHz) \n",
      "\t \t                Almacenamiento: \t [u'HDD 1TB (5400rpm)', u'M.2 128GB']\n",
      "\t \t                           RAM: \t  16GB DDR4 (2133 MHz) \n",
      "\t \t                        Webcam: \t               1,0 MP\n",
      "\t \t                   ¿Bluetooth?: \t                   Sí\n",
      "\t \t                   Puertos USB: \t                    3\n",
      "\t \t ¿Lector de huellas digitales?: \t                   No\n",
      "\t \t             Sistema Operativo: \t  Microsoft Windows 10 Home\n",
      "\t \t          ¿RAM de doble canal?: \t                   Sí\n",
      "\t \t                 Unidad óptica: \t                   No\n",
      "\t \t                          WiFi: \t  Genérica (802.11 b/g/n/ac)\n",
      "\t \t            Lector de tarjetas: \t  Lector de tarjetas SD\n",
      "\t \t                   Dimensiones: \t   382 x 253 x 25 mm.\n",
      "\t \t             Tarjetas de video: \t [u'Intel HD Graphics 530 (Integrada)', u'NVIDIA GeForce GTX 960M (4GB)']\n",
      "\t \t          Adaptador de energía: \t                120W.\n",
      "\t \t                       Bateria: \t  3 celdas (61500 mWh) \n",
      "\t \t                           LAN: \t  10 / 100 / 1000 Mbps\n",
      "\t \t                          Peso: \t              1580 g.\n",
      "\t \t              Puertos de video: \t                HDMI \n",
      "   Lenovo IdeaPad 700-17ISK (i7 6700HQ / 12 GB / 1000 GB)   \n",
      "\t['price', 'link', 'details']\n",
      "\t details\n",
      "\t \t                      Pantalla: \t  LED 17.3\" (1920x1080) \n",
      "\t \t                    Procesador: \t Intel Core i7 6700HQ (2600 MHz - 3500 MHz) \n",
      "\t \t                Almacenamiento: \t   HDD 1TB (5400rpm) \n",
      "\t \t                           RAM: \t  12GB DDR3 (1600 MHz) \n",
      "\t \t                        Webcam: \t               1,0 MP\n",
      "\t \t                   ¿Bluetooth?: \t                   Sí\n",
      "\t \t                   Puertos USB: \t                    3\n",
      "\t \t ¿Lector de huellas digitales?: \t                   No\n",
      "\t \t             Sistema Operativo: \t  Microsoft Windows 10 Home\n",
      "\t \t          ¿RAM de doble canal?: \t                   No\n",
      "\t \t                 Unidad óptica: \t                   No\n",
      "\t \t                          WiFi: \t  Intel Dual Band AC 3160 (802.11 b/g/n/ac)\n",
      "\t \t            Lector de tarjetas: \t               4-en-1\n",
      "\t \t                   Dimensiones: \t   418 x 286 x 25 mm.\n",
      "\t \t             Tarjetas de video: \t [u'Intel HD Graphics 530 (Integrada)', u'NVIDIA GeForce 940M (2GB)']\n",
      "\t \t          Adaptador de energía: \t          Desconocido\n",
      "\t \t                       Bateria: \t  4 celdas (35000 mWh) \n",
      "\t \t                           LAN: \t  10 / 100 / 1000 Mbps\n",
      "\t \t                          Peso: \t              2700 g.\n",
      "\t \t              Puertos de video: \t                HDMI \n",
      "   HP Envy 15-AE103LA (P0D91LA)   \n",
      "\t['price', 'link', 'details']\n",
      "\t details\n",
      "\t \t                      Pantalla: \t  LED 15.6\" (1920x1080) \n",
      "\t \t                    Procesador: \t Intel Core i7 6500U (2500 MHz - 3100 MHz) \n",
      "\t \t                Almacenamiento: \t   HDD 1TB (5400rpm) \n",
      "\t \t                           RAM: \t  12GB DDR3L (1600 MHz) \n",
      "\t \t                        Webcam: \t               1,0 MP\n",
      "\t \t                   ¿Bluetooth?: \t                   Sí\n",
      "\t \t                   Puertos USB: \t                    4\n",
      "\t \t ¿Lector de huellas digitales?: \t                   No\n",
      "\t \t             Sistema Operativo: \t  Microsoft Windows 10 Home\n",
      "\t \t          ¿RAM de doble canal?: \t                   Sí\n",
      "\t \t                 Unidad óptica: \t                   No\n",
      "\t \t                          WiFi: \t  Genérica (802.11 b/g/n/ac)\n",
      "\t \t            Lector de tarjetas: \t               3-en-1\n",
      "\t \t                   Dimensiones: \t   384 x 255 x 23 mm.\n",
      "\t \t             Tarjetas de video: \t [u'NVIDIA GeForce 940M (2GB)', u'Intel HD Graphics 520 (Integrada)']\n",
      "\t \t          Adaptador de energía: \t                 65W.\n",
      "\t \t                       Bateria: \t  3 celdas (55500 mWh) \n",
      "\t \t                           LAN: \t  10 / 100 / 1000 Mbps\n",
      "\t \t                          Peso: \t              2360 g.\n",
      "\t \t              Puertos de video: \t                HDMI \n",
      "   Lenovo IdeaPad Y700-15 (I7-6700HQ / 12GB / 1TB / GTX 960M)   \n",
      "\t['price', 'link', 'details']\n",
      "\t details\n",
      "\t \t                      Pantalla: \t  LED 15.6\" (1920x1080) \n",
      "\t \t                    Procesador: \t Intel Core i7 6700HQ (2600 MHz - 3500 MHz) \n",
      "\t \t                Almacenamiento: \t   HDD 1TB (5400rpm) \n",
      "\t \t                           RAM: \t  12GB DDR4 (2133 MHz) \n",
      "\t \t                        Webcam: \t               1,0 MP\n",
      "\t \t                   ¿Bluetooth?: \t                   Sí\n",
      "\t \t                   Puertos USB: \t                    3\n",
      "\t \t ¿Lector de huellas digitales?: \t                   No\n",
      "\t \t             Sistema Operativo: \t  Microsoft Windows 10 Home\n",
      "\t \t          ¿RAM de doble canal?: \t                   Sí\n",
      "\t \t                 Unidad óptica: \t  DVD±RW / Blu-ray (Externa)\n",
      "\t \t                          WiFi: \t  Genérica (802.11 b/g/n)\n",
      "\t \t            Lector de tarjetas: \t               3-en-1\n",
      "\t \t                   Dimensiones: \t   423 x 305 x 28 mm.\n",
      "\t \t             Tarjetas de video: \t [u'Intel HD Graphics 530 (Integrada)', u'NVIDIA GeForce GTX 960M (4GB)']\n",
      "\t \t          Adaptador de energía: \t          Desconocido\n",
      "\t \t                       Bateria: \t            4 celdas \n",
      "\t \t                           LAN: \t        10 / 100 Mbps\n",
      "\t \t                          Peso: \t              2600 g.\n",
      "\t \t              Puertos de video: \t                HDMI \n",
      "   HP Pavilion 15T-BTO PRO   \n",
      "\t['price', 'link', 'details']\n",
      "\t details\n",
      "\t \t                      Pantalla: \t  LED 15.6\" (1920x1080) \n",
      "\t \t                    Procesador: \t Intel Core i7 6500U (2500 MHz - 3100 MHz) \n",
      "\t \t                Almacenamiento: \t   HDD 2TB (5400rpm) \n",
      "\t \t                           RAM: \t  16GB DDR3L (1600 MHz) \n",
      "\t \t                        Webcam: \t               2,0 MP\n",
      "\t \t                   ¿Bluetooth?: \t                   Sí\n",
      "\t \t                   Puertos USB: \t                    3\n",
      "\t \t ¿Lector de huellas digitales?: \t                   No\n",
      "\t \t             Sistema Operativo: \t  Microsoft Windows 10 Home\n",
      "\t \t          ¿RAM de doble canal?: \t                   Sí\n",
      "\t \t                 Unidad óptica: \t               DVD±RW\n",
      "\t \t                          WiFi: \t  Genérica (802.11 b/g/n)\n",
      "\t \t            Lector de tarjetas: \t               3-en-1\n",
      "\t \t                   Dimensiones: \t   379 x 250 x 30 mm.\n",
      "\t \t             Tarjetas de video: \t [u'NVIDIA GeForce 940M (2GB)', u'Intel HD Graphics 520 (Integrada)']\n",
      "\t \t          Adaptador de energía: \t                120W.\n",
      "\t \t                       Bateria: \t  6 celdas (2200 mAh | 47000 mWh) \n",
      "\t \t                           LAN: \t        10 / 100 Mbps\n",
      "\t \t                          Peso: \t              2600 g.\n",
      "\t \t              Puertos de video: \t                HDMI \n",
      "   HP Omen 15-5001LA (J2M88LA)   \n",
      "\t['price', 'link', 'details']\n",
      "\t details\n",
      "\t \t                      Pantalla: \t  LED 15.6\" (1920x1080) \n",
      "\t \t                    Procesador: \t Intel Core i7 4710HQ (2500 MHz - 3500 MHz) \n",
      "\t \t                Almacenamiento: \t           SSD 256GB \n",
      "\t \t                           RAM: \t  16GB DDR3 (1600 MHz) \n",
      "\t \t                        Webcam: \t               1,0 MP\n",
      "\t \t                   ¿Bluetooth?: \t                   Sí\n",
      "\t \t                   Puertos USB: \t                    4\n",
      "\t \t ¿Lector de huellas digitales?: \t                   No\n",
      "\t \t             Sistema Operativo: \t  Microsoft Windows 8.1\n",
      "\t \t          ¿RAM de doble canal?: \t                   Sí\n",
      "\t \t                 Unidad óptica: \t                   No\n",
      "\t \t                          WiFi: \t  Genérica (802.11 b/g/n/ac)\n",
      "\t \t            Lector de tarjetas: \t               3-en-1\n",
      "\t \t                   Dimensiones: \t   383 x 246 x 20 mm.\n",
      "\t \t             Tarjetas de video: \t [u'Intel HD Graphics 4600 (Integrada)', u'NVIDIA GeForce GTX 860M (4GB)']\n",
      "\t \t          Adaptador de energía: \t                120W.\n",
      "\t \t                       Bateria: \t  4 celdas (3820 mAh | 15200 mV | 58000 mWh) \n",
      "\t \t                           LAN: \t                   No\n",
      "\t \t                          Peso: \t              2120 g.\n",
      "\t \t              Puertos de video: \t [u' HDMI', u' Mini DisplayPort']\n"
     ]
    }
   ],
   "source": [
    "for k in cat.keys():\n",
    "    print k\n",
    "    print \"\\t\", cat[k].keys()\n",
    "    print \"\\t details\"\n",
    "    for d in cat[k][\"details\"].keys():\n",
    "        print \"\\t \\t %30s \\t %20s\"%(d,cat[k][\"details\"][d])"
   ]
  },
  {
   "cell_type": "code",
   "execution_count": null,
   "metadata": {
    "collapsed": true
   },
   "outputs": [],
   "source": []
  }
 ],
 "metadata": {
  "kernelspec": {
   "display_name": "Python 2",
   "language": "python",
   "name": "python2"
  },
  "language_info": {
   "codemirror_mode": {
    "name": "ipython",
    "version": 2
   },
   "file_extension": ".py",
   "mimetype": "text/x-python",
   "name": "python",
   "nbconvert_exporter": "python",
   "pygments_lexer": "ipython2",
   "version": "2.7.11"
  }
 },
 "nbformat": 4,
 "nbformat_minor": 0
}
