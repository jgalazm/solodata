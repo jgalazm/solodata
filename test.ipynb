{
 "cells": [
  {
   "cell_type": "markdown",
   "metadata": {},
   "source": [
    "# Test con más entradas"
   ]
  },
  {
   "cell_type": "code",
   "execution_count": 1,
   "metadata": {
    "collapsed": false,
    "scrolled": true
   },
   "outputs": [
    {
     "name": "stderr",
     "output_type": "stream",
     "text": [
      "/home/jose/anaconda2/lib/python2.7/site-packages/bs4/__init__.py:166: UserWarning: No parser was explicitly specified, so I'm using the best available HTML parser for this system (\"lxml\"). This usually isn't a problem, but if you run this code on another system, or in a different virtual environment, it may use a different parser and behave differently.\n",
      "\n",
      "To get rid of this warning, change this:\n",
      "\n",
      " BeautifulSoup([your markup])\n",
      "\n",
      "to this:\n",
      "\n",
      " BeautifulSoup([your markup], \"lxml\")\n",
      "\n",
      "  markup_type=markup_type))\n"
     ]
    }
   ],
   "source": [
    "import solocatalogo as sc\n",
    "qURL= \"http://www.solotodo.com/notebooks/?min_price=99990&max_price=1001329&keywords=&notebook_brand=&notebook_line=&processor_brand=&processor_line_family=&processor=&ram_quantity=103199&ram_type=&storage_capacity=&storage_type=&storage_rpm=&min_screen_size=103114&max_screen_size=103150&screen_resolution=&screen_touch=&video_card_type=&video_card_brand=&video_card_line=103900&video_card=&operating_system=&optical_drive=&advanced_controls=1&ordering=\"\n",
    "cat = sc.getCatalog(qURL)"
   ]
  },
  {
   "cell_type": "code",
   "execution_count": 2,
   "metadata": {
    "collapsed": false
   },
   "outputs": [
    {
     "data": {
      "text/plain": [
       "[u'   ASUS ROG GL552VX-DM093T   ',\n",
       " u'   ASUS N551JW-CN357T (90NB08B1-M04750)   ',\n",
       " u'   ASUS G501JW-CN170H   ',\n",
       " u'   ASUS Zenbook UX303UB-R4144T (90NB08U1-M02500)   ',\n",
       " u'   HP Envy 15-AE105LA (P0D92LA)   ',\n",
       " u'   Lenovo IdeaPad 700-17ISK (i7 6700HQ / 12 GB / 1000 GB)   ',\n",
       " u'   HP Envy 15-AE103LA (P0D91LA)   ',\n",
       " u'   HP Pavilion 15T-BTO PRO   ']"
      ]
     },
     "execution_count": 2,
     "metadata": {},
     "output_type": "execute_result"
    }
   ],
   "source": [
    "cat.keys()"
   ]
  },
  {
   "cell_type": "markdown",
   "metadata": {},
   "source": [
    "Detectar el ul con la paginacion para ver cual es el # de la ultima pagina y despues hacer loop y colocar al final de la url original"
   ]
  },
  {
   "cell_type": "code",
   "execution_count": 3,
   "metadata": {
    "collapsed": false
   },
   "outputs": [
    {
     "ename": "SyntaxError",
     "evalue": "invalid syntax (<ipython-input-3-e97a492737f9>, line 1)",
     "output_type": "error",
     "traceback": [
      "\u001b[1;36m  File \u001b[1;32m\"<ipython-input-3-e97a492737f9>\"\u001b[1;36m, line \u001b[1;32m1\u001b[0m\n\u001b[1;33m    http://www.solotodo.com/notebooks/?min_price=99990&max_price=1001329&keywords=&notebook_brand=&notebook_line=&processor_brand=&processor_line_family=&processor=&ram_quantity=103199&ram_type=&storage_capacity=&storage_type=&storage_rpm=&min_screen_size=103114&max_screen_size=103150&screen_resolution=&screen_touch=&video_card_type=&video_card_brand=&video_card_line=103900&video_card=&operating_system=&optical_drive=&advanced_controls=1&ordering=\u001b[0m\n\u001b[1;37m        ^\u001b[0m\n\u001b[1;31mSyntaxError\u001b[0m\u001b[1;31m:\u001b[0m invalid syntax\n"
     ]
    }
   ],
   "source": [
    "http://www.solotodo.com/notebooks/?min_price=99990&max_price=1001329&keywords=&notebook_brand=&notebook_line=&processor_brand=&processor_line_family=&processor=&ram_quantity=103199&ram_type=&storage_capacity=&storage_type=&storage_rpm=&min_screen_size=103114&max_screen_size=103150&screen_resolution=&screen_touch=&video_card_type=&video_card_brand=&video_card_line=103900&video_card=&operating_system=&optical_drive=&advanced_controls=1&ordering="
   ]
  }
 ],
 "metadata": {
  "kernelspec": {
   "display_name": "Python 2",
   "language": "python",
   "name": "python2"
  },
  "language_info": {
   "codemirror_mode": {
    "name": "ipython",
    "version": 2
   },
   "file_extension": ".py",
   "mimetype": "text/x-python",
   "name": "python",
   "nbconvert_exporter": "python",
   "pygments_lexer": "ipython2",
   "version": "2.7.11"
  }
 },
 "nbformat": 4,
 "nbformat_minor": 0
}
