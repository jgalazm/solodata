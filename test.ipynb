{
 "cells": [
  {
   "cell_type": "markdown",
   "metadata": {},
   "source": [
    "# Test con más entradas"
   ]
  },
  {
   "cell_type": "code",
   "execution_count": 1,
   "metadata": {
    "collapsed": false,
    "scrolled": true
   },
   "outputs": [
    {
     "name": "stdout",
     "output_type": "stream",
     "text": [
      "Revisando pagina 1 de 3: \n",
      "\thttp://www.solotodo.com/notebooks/?advanced_controls=1&keywords=&ordering=&ram_quantity=103199&min_screen_size=103114&max_screen_size=103150&video_card_line=103900&screen_touch=&min_price=99990&max_price=1001329&page_number=1\n",
      "Revisando pagina 2 de 3: \n",
      "\thttp://www.solotodo.com/notebooks/?advanced_controls=1&keywords=&ordering=&ram_quantity=103199&min_screen_size=103114&max_screen_size=103150&video_card_line=103900&screen_touch=&min_price=99990&max_price=1001329&page_number=2\n",
      "Revisando pagina 3 de 3: \n",
      "\thttp://www.solotodo.com/notebooks/?advanced_controls=1&keywords=&ordering=&ram_quantity=103199&min_screen_size=103114&max_screen_size=103150&video_card_line=103900&screen_touch=&min_price=99990&max_price=1001329&page_number=3\n"
     ]
    },
    {
     "name": "stderr",
     "output_type": "stream",
     "text": [
      "/home/jose/anaconda2/lib/python2.7/site-packages/bs4/__init__.py:166: UserWarning: No parser was explicitly specified, so I'm using the best available HTML parser for this system (\"lxml\"). This usually isn't a problem, but if you run this code on another system, or in a different virtual environment, it may use a different parser and behave differently.\n",
      "\n",
      "To get rid of this warning, change this:\n",
      "\n",
      " BeautifulSoup([your markup])\n",
      "\n",
      "to this:\n",
      "\n",
      " BeautifulSoup([your markup], \"lxml\")\n",
      "\n",
      "  markup_type=markup_type))\n"
     ]
    }
   ],
   "source": [
    "import solocatalogo as sc\n",
    "qURL= \"http://www.solotodo.com/notebooks/?min_price=99990&max_price=1001329&keywords=&notebook_brand=&notebook_line=&processor_brand=&processor_line_family=&processor=&ram_quantity=103199&ram_type=&storage_capacity=&storage_type=&storage_rpm=&min_screen_size=103114&max_screen_size=103150&screen_resolution=&screen_touch=&video_card_type=&video_card_brand=&video_card_line=103900&video_card=&operating_system=&optical_drive=&advanced_controls=1&ordering=\"\n",
    "cat = sc.getCatalog(qURL)"
   ]
  },
  {
   "cell_type": "code",
   "execution_count": 2,
   "metadata": {
    "collapsed": false
   },
   "outputs": [
    {
     "data": {
      "text/plain": [
       "[u'   ASUS ROG GL552VX-DM093T   ',\n",
       " u'   ASUS ROG G552VW-CN452T   ',\n",
       " u'   HP Pavilion 15-AK006LA (P0E26LA)   ',\n",
       " u'   HP Envy 17-N103LA (L9M14LA)   ',\n",
       " u'   ASUS N551JW-CN357T (90NB08B1-M04750)   ',\n",
       " u'   ASUS G501JW-CN170H   ',\n",
       " u'   ASUS N552VW-FI100T   ',\n",
       " u'   ASUS Zenbook UX303UB-R4144T (90NB08U1-M02500)   ',\n",
       " u'   HP Pavilion 15-AK003LA (P0E03LA)   ',\n",
       " u'   Lenovo IdeaPad 700-15 (i7 6700HQ / 12 GB / 1000 GB / GTX 950 2GB)   ',\n",
       " u'   ASUS GL552VW-DM464T   ',\n",
       " u'   HP Envy 15-AE105LA (P0D92LA)   ',\n",
       " u'   HP Omen 15-AX002LA (V7R99LA)   ',\n",
       " u'   Lenovo IdeaPad 700-17ISK (i7 6700HQ / 12 GB / 1000 GB)   ',\n",
       " u'   HP Envy 15-AE103LA (P0D91LA)   ',\n",
       " u'   Lenovo IdeaPad Y700-15 (I7-6700HQ / 12GB / 1TB / GTX 960M)   ',\n",
       " u'   HP Pavilion 15T-BTO PRO   ',\n",
       " u'   HP Omen 15-5001LA (J2M88LA)   ']"
      ]
     },
     "execution_count": 2,
     "metadata": {},
     "output_type": "execute_result"
    }
   ],
   "source": [
    "cat.keys()"
   ]
  },
  {
   "cell_type": "markdown",
   "metadata": {},
   "source": [
    "Sólo falta generar la tabla csv a partir del dict encontrado :-)"
   ]
  }
 ],
 "metadata": {
  "kernelspec": {
   "display_name": "Python 2",
   "language": "python",
   "name": "python2"
  },
  "language_info": {
   "codemirror_mode": {
    "name": "ipython",
    "version": 2
   },
   "file_extension": ".py",
   "mimetype": "text/x-python",
   "name": "python",
   "nbconvert_exporter": "python",
   "pygments_lexer": "ipython2",
   "version": "2.7.11"
  }
 },
 "nbformat": 4,
 "nbformat_minor": 0
}
